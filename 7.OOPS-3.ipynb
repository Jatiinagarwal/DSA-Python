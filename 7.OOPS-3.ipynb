{
 "cells": [
  {
   "cell_type": "code",
   "execution_count": 96,
   "id": "69fdf192",
   "metadata": {},
   "outputs": [],
   "source": [
    "from abc import ABC,abstractmethod\n",
    "\n",
    "class automobile(ABC):\n",
    "    \n",
    "    def __init__(self):\n",
    "        print(\"automobile created\")\n",
    "        \n",
    "    def start(self):\n",
    "        pass\n",
    "    \n",
    "    def stop(self):\n",
    "        pass\n",
    "    \n",
    "    def drive(self):\n",
    "        pass\n",
    "    "
   ]
  },
  {
   "cell_type": "code",
   "execution_count": 97,
   "id": "67d19e40",
   "metadata": {},
   "outputs": [
    {
     "name": "stdout",
     "output_type": "stream",
     "text": [
      "automobile created\n"
     ]
    }
   ],
   "source": [
    "c=automobile()"
   ]
  },
  {
   "cell_type": "code",
   "execution_count": 99,
   "id": "872825d0",
   "metadata": {},
   "outputs": [],
   "source": [
    "from abc import ABC,abstractmethod\n",
    "\n",
    "class automobile(ABC):\n",
    "    \n",
    "    def __init__(self):\n",
    "        print(\"automobile created\")\n",
    "\n",
    "    @abstractmethod\n",
    "    def start(self):\n",
    "        pass\n",
    "    \n",
    "    @abstractmethod\n",
    "    def stop(self):\n",
    "        pass\n",
    "    \n",
    "    @abstractmethod\n",
    "    def drive(self):\n",
    "        pass\n",
    "    "
   ]
  },
  {
   "cell_type": "code",
   "execution_count": 100,
   "id": "1f2a84a7",
   "metadata": {},
   "outputs": [
    {
     "ename": "TypeError",
     "evalue": "Can't instantiate abstract class automobile with abstract methods drive, start, stop",
     "output_type": "error",
     "traceback": [
      "\u001b[1;31m---------------------------------------------------------------------------\u001b[0m",
      "\u001b[1;31mTypeError\u001b[0m                                 Traceback (most recent call last)",
      "Cell \u001b[1;32mIn[100], line 1\u001b[0m\n\u001b[1;32m----> 1\u001b[0m c\u001b[38;5;241m=\u001b[39mautomobile()\n",
      "\u001b[1;31mTypeError\u001b[0m: Can't instantiate abstract class automobile with abstract methods drive, start, stop"
     ]
    }
   ],
   "source": [
    "c=automobile()"
   ]
  },
  {
   "cell_type": "code",
   "execution_count": 101,
   "id": "01e1ec91",
   "metadata": {},
   "outputs": [],
   "source": [
    "from abc import ABC,abstractmethod\n",
    "\n",
    "class automobile(ABC):\n",
    "    \n",
    "    def __init__(self):\n",
    "        print(\"automobile created\")\n",
    "        \n",
    "    @abstractmethod\n",
    "    def start(self):\n",
    "        pass\n",
    "    \n",
    "    def stop(self):\n",
    "        pass\n",
    "    \n",
    "    def drive(self):\n",
    "        pass\n",
    "    "
   ]
  },
  {
   "cell_type": "code",
   "execution_count": 102,
   "id": "93aaaa48",
   "metadata": {},
   "outputs": [
    {
     "ename": "TypeError",
     "evalue": "Can't instantiate abstract class automobile with abstract method start",
     "output_type": "error",
     "traceback": [
      "\u001b[1;31m---------------------------------------------------------------------------\u001b[0m",
      "\u001b[1;31mTypeError\u001b[0m                                 Traceback (most recent call last)",
      "Cell \u001b[1;32mIn[102], line 1\u001b[0m\n\u001b[1;32m----> 1\u001b[0m c\u001b[38;5;241m=\u001b[39mautomobile()\n",
      "\u001b[1;31mTypeError\u001b[0m: Can't instantiate abstract class automobile with abstract method start"
     ]
    }
   ],
   "source": [
    "c=automobile()"
   ]
  },
  {
   "cell_type": "code",
   "execution_count": 105,
   "id": "3b59e38c",
   "metadata": {},
   "outputs": [],
   "source": [
    "from abc import ABC,abstractmethod\n",
    "\n",
    "class automobile(ABC):\n",
    "    \n",
    "    def __init__(self):\n",
    "        print(\"automobile created\")\n",
    "\n",
    "    @abstractmethod\n",
    "    def start(self):\n",
    "        pass\n",
    "    \n",
    "    @abstractmethod\n",
    "    def stop(self):\n",
    "        pass\n",
    "    \n",
    "    @abstractmethod\n",
    "    def drive(self):\n",
    "        pass\n",
    "    \n",
    "class car(automobile):\n",
    "    \n",
    "    def __init__(self,name):\n",
    "        print(\"car created\")\n",
    "        self.name=name\n",
    "        \n",
    "    def start(self):\n",
    "        pass\n",
    "    def stop(self):\n",
    "        pass\n",
    "    def drive(self):\n",
    "        pass"
   ]
  },
  {
   "cell_type": "code",
   "execution_count": 106,
   "id": "65b8c938",
   "metadata": {},
   "outputs": [
    {
     "name": "stdout",
     "output_type": "stream",
     "text": [
      "car created\n"
     ]
    }
   ],
   "source": [
    "c=car(\"honda\")"
   ]
  },
  {
   "cell_type": "code",
   "execution_count": 110,
   "id": "5f0670c4",
   "metadata": {},
   "outputs": [],
   "source": [
    "from abc import ABC,abstractmethod\n",
    "\n",
    "class automobile(ABC):\n",
    "    \n",
    "    def __init__(self):\n",
    "        print(\"automobile created\")\n",
    "\n",
    "    @abstractmethod\n",
    "    def start(self):\n",
    "        pass\n",
    "    \n",
    "    @abstractmethod\n",
    "    def stop(self):\n",
    "        pass\n",
    "    \n",
    "    @abstractmethod\n",
    "    def drive(self):\n",
    "        pass\n",
    "    \n",
    "class car(automobile):\n",
    "    \n",
    "    #def __init__(self,name):\n",
    "     #   print(\"car created\")\n",
    "      #  self.name=name\n",
    "        \n",
    "    def start(self):\n",
    "        pass\n",
    "    def stop(self):\n",
    "        pass\n",
    "    def drive(self):\n",
    "        pass\n",
    "    \n",
    "    \n",
    "class bus(automobile):\n",
    "    def __init__(self,name):\n",
    "        print(\"bus created\")\n",
    "        self.name=name\n",
    "        "
   ]
  },
  {
   "cell_type": "code",
   "execution_count": 112,
   "id": "c313d1ef",
   "metadata": {},
   "outputs": [
    {
     "name": "stdout",
     "output_type": "stream",
     "text": [
      "automobile created\n"
     ]
    },
    {
     "ename": "TypeError",
     "evalue": "Can't instantiate abstract class bus with abstract methods drive, start, stop",
     "output_type": "error",
     "traceback": [
      "\u001b[1;31m---------------------------------------------------------------------------\u001b[0m",
      "\u001b[1;31mTypeError\u001b[0m                                 Traceback (most recent call last)",
      "Cell \u001b[1;32mIn[112], line 2\u001b[0m\n\u001b[0;32m      1\u001b[0m c\u001b[38;5;241m=\u001b[39mcar()\n\u001b[1;32m----> 2\u001b[0m b\u001b[38;5;241m=\u001b[39mbus(\u001b[38;5;124m\"\u001b[39m\u001b[38;5;124mdelhi\u001b[39m\u001b[38;5;124m\"\u001b[39m)\n",
      "\u001b[1;31mTypeError\u001b[0m: Can't instantiate abstract class bus with abstract methods drive, start, stop"
     ]
    }
   ],
   "source": [
    "c=car()\n",
    "b=bus(\"delhi\")"
   ]
  },
  {
   "cell_type": "code",
   "execution_count": 113,
   "id": "02b46332",
   "metadata": {},
   "outputs": [],
   "source": [
    "from abc import ABC,abstractmethod\n",
    "\n",
    "class automobile(ABC):\n",
    "    \n",
    "    def __init__(self):\n",
    "        print(\"automobile created\")\n",
    "\n",
    "    @abstractmethod\n",
    "    def start(self):\n",
    "        pass\n",
    "    \n",
    "    @abstractmethod\n",
    "    def stop(self):\n",
    "        pass\n",
    "    \n",
    "    @abstractmethod\n",
    "    def drive(self):\n",
    "        pass\n",
    "    \n",
    "class car(automobile):\n",
    "    \n",
    "    #def __init__(self,name):\n",
    "     #   print(\"car created\")\n",
    "      #  self.name=name\n",
    "        \n",
    "    def start(self):\n",
    "        pass\n",
    "    def stop(self):\n",
    "        pass\n",
    "    def drive(self):\n",
    "        pass\n",
    "    \n",
    "    \n",
    "class bus(automobile):\n",
    "    def __init__(self,name):\n",
    "        print(\"bus created\")\n",
    "        self.name=name\n",
    "        \n",
    "    def start(self):\n",
    "        pass\n",
    "    def stop(self):\n",
    "        pass\n",
    "    def drive(self):\n",
    "        pass\n",
    "        "
   ]
  },
  {
   "cell_type": "code",
   "execution_count": 114,
   "id": "9c4688d3",
   "metadata": {},
   "outputs": [
    {
     "name": "stdout",
     "output_type": "stream",
     "text": [
      "automobile created\n",
      "bus created\n"
     ]
    }
   ],
   "source": [
    "c=car()\n",
    "b=bus(\"delhi\")"
   ]
  },
  {
   "cell_type": "code",
   "execution_count": 1,
   "id": "7c281adc",
   "metadata": {},
   "outputs": [],
   "source": [
    "from abc import ABC,abstractmethod\n",
    "\n",
    "class automobile(ABC):\n",
    "    \n",
    "    def __init__(self):\n",
    "        print(\"automobile created\")\n",
    "\n",
    "    @abstractmethod\n",
    "    def start(self):\n",
    "        print(\"start of automobile called\")\n",
    "    \n",
    "    @abstractmethod\n",
    "    def stop(self):\n",
    "        pass\n",
    "    \n",
    "    @abstractmethod\n",
    "    def drive(self):\n",
    "        pass\n",
    "    \n",
    "class car(automobile):\n",
    "    \n",
    "    def __init__(self,name):\n",
    "        print(\"car created\")\n",
    "        self.name=name\n",
    "        \n",
    "    def start(self):\n",
    "        print(\"stsrt of car called\")\n",
    "        \n",
    "    def stop(self):\n",
    "        pass\n",
    "    def drive(self):\n",
    "        pass\n",
    "    \n",
    "    \n",
    "class bus(automobile):\n",
    "    def __init__(self,name):\n",
    "        print(\"bus created\")\n",
    "        self.name=name\n",
    "        \n",
    "    def start(self):\n",
    "        pass\n",
    "    def stop(self):\n",
    "        pass\n",
    "    def drive(self):\n",
    "        pass\n",
    "        "
   ]
  },
  {
   "cell_type": "code",
   "execution_count": 5,
   "id": "79b63702",
   "metadata": {},
   "outputs": [
    {
     "name": "stdout",
     "output_type": "stream",
     "text": [
      "car created\n",
      "bus created\n",
      "stsrt of car called\n"
     ]
    }
   ],
   "source": [
    "c=car(\"honda\")\n",
    "b=bus(\"delhi\")\n",
    "c.start()"
   ]
  },
  {
   "cell_type": "code",
   "execution_count": 6,
   "id": "6d087c05",
   "metadata": {},
   "outputs": [],
   "source": [
    "from abc import ABC,abstractmethod\n",
    "\n",
    "class automobile(ABC):\n",
    "    \n",
    "    def __init__(self):\n",
    "        print(\"automobile created\")\n",
    "\n",
    "    @abstractmethod\n",
    "    def start(self):\n",
    "        print(\"start of automobile called\")\n",
    "    \n",
    "    @abstractmethod\n",
    "    def stop(self):\n",
    "        pass\n",
    "    \n",
    "    @abstractmethod\n",
    "    def drive(self):\n",
    "        pass\n",
    "    \n",
    "class car(automobile):\n",
    "    \n",
    "    def __init__(self,name):\n",
    "        print(\"car created\")\n",
    "        self.name=name\n",
    "        \n",
    "    def start(self):\n",
    "        super().start()\n",
    "        print(\"start of car called\")\n",
    "        \n",
    "    def stop(self):\n",
    "        pass\n",
    "    def drive(self):\n",
    "        pass\n",
    "    \n",
    "    \n",
    "class bus(automobile):\n",
    "    def __init__(self,name):\n",
    "        print(\"bus created\")\n",
    "        self.name=name\n",
    "        \n",
    "    def start(self):\n",
    "        pass\n",
    "    def stop(self):\n",
    "        pass\n",
    "    def drive(self):\n",
    "        pass\n",
    "        "
   ]
  },
  {
   "cell_type": "code",
   "execution_count": 7,
   "id": "7722458a",
   "metadata": {},
   "outputs": [
    {
     "name": "stdout",
     "output_type": "stream",
     "text": [
      "car created\n",
      "bus created\n",
      "start of automobile called\n",
      "start of car called\n"
     ]
    }
   ],
   "source": [
    "c=car(\"honda\")\n",
    "b=bus(\"delhi\")\n",
    "c.start()"
   ]
  },
  {
   "cell_type": "code",
   "execution_count": 10,
   "id": "4f062d34",
   "metadata": {},
   "outputs": [],
   "source": [
    "from abc import ABC,abstractmethod\n",
    "\n",
    "class automobile(ABC):\n",
    "    \n",
    "    def __init__(self,no_of_wheels):\n",
    "        self.no_of_wheels=no_of_wheels\n",
    "        print(\"automobile created\")\n",
    "\n",
    "    @abstractmethod\n",
    "    def start(self):\n",
    "        print(\"start of automobile called\")\n",
    "    \n",
    "    @abstractmethod\n",
    "    def stop(self):\n",
    "        pass\n",
    "    \n",
    "    @abstractmethod\n",
    "    def drive(self):\n",
    "        pass\n",
    "    \n",
    "class car(automobile):\n",
    "    \n",
    "\n",
    "        \n",
    "    def start(self):\n",
    "        super().start()\n",
    "        print(\"start of car called\")\n",
    "        \n",
    "    def stop(self):\n",
    "        pass\n",
    "    def drive(self):\n",
    "        pass\n",
    "    \n",
    "    \n",
    "class bus(automobile):\n",
    "    \n",
    "        \n",
    "    def start(self):\n",
    "        pass\n",
    "    def stop(self):\n",
    "        pass\n",
    "    def drive(self):\n",
    "        pass\n",
    "        "
   ]
  },
  {
   "cell_type": "code",
   "execution_count": 12,
   "id": "c8785e97",
   "metadata": {},
   "outputs": [
    {
     "name": "stdout",
     "output_type": "stream",
     "text": [
      "automobile created\n",
      "automobile created\n"
     ]
    }
   ],
   "source": [
    "c=car(5)\n",
    "b=bus(8)"
   ]
  },
  {
   "cell_type": "code",
   "execution_count": 19,
   "id": "b56dcd76",
   "metadata": {},
   "outputs": [],
   "source": [
    "from abc import ABC,abstractmethod\n",
    "\n",
    "class automobile(ABC):\n",
    "    \n",
    "    def __init__(self,no_of_wheels):\n",
    "        self.no_of_wheels=no_of_wheels\n",
    "        print(\"automobile created\")\n",
    "\n",
    "    @abstractmethod\n",
    "    def start(self):\n",
    "        print(\"start of automobile called\")\n",
    "    \n",
    "    @abstractmethod\n",
    "    def stop(self):\n",
    "        pass\n",
    "    \n",
    "    @abstractmethod\n",
    "    def drive(self):\n",
    "        pass\n",
    "    @abstractmethod\n",
    "    def get_no_of_wheels(self):\n",
    "        return self.no_of_wheels\n",
    "    \n",
    "class car(automobile):\n",
    "    \n",
    "\n",
    "        \n",
    "    def start(self):\n",
    "        super().start()\n",
    "        print(\"start of car called\")\n",
    "        \n",
    "    def stop(self):\n",
    "        pass\n",
    "    def drive(self):\n",
    "        pass\n",
    "    def get_no_of_wheels(self):\n",
    "        return super().get_no_of_wheels()\n",
    "    \n",
    "class bus(automobile):\n",
    "    \n",
    "        \n",
    "    def start(self):\n",
    "        pass\n",
    "    def stop(self):\n",
    "        pass\n",
    "    def drive(self):\n",
    "        pass\n",
    "    def get_no_of_wheels(self):\n",
    "        return super().get_no_of_wheels()\n",
    "    "
   ]
  },
  {
   "cell_type": "code",
   "execution_count": 20,
   "id": "14f9f20f",
   "metadata": {},
   "outputs": [
    {
     "name": "stdout",
     "output_type": "stream",
     "text": [
      "automobile created\n",
      "automobile created\n",
      "5\n"
     ]
    }
   ],
   "source": [
    "c=car(5)\n",
    "b=bus(8)\n",
    "print(c.get_no_of_wheels())"
   ]
  },
  {
   "cell_type": "code",
   "execution_count": 23,
   "id": "8440bd58",
   "metadata": {},
   "outputs": [
    {
     "name": "stdout",
     "output_type": "stream",
     "text": [
      "enter the numeratora\n",
      "numerator and denominator should be integer\n"
     ]
    }
   ],
   "source": [
    "try:\n",
    "    num=int(input(\"enter the numerator\"))\n",
    "    den=int(input(\"enter the denominator\"))\n",
    "    value=num/den\n",
    "    print(value)\n",
    "except ValueError:\n",
    "    print(\"numerator and denominator should be integer\")"
   ]
  },
  {
   "cell_type": "code",
   "execution_count": 24,
   "id": "f469bc45",
   "metadata": {},
   "outputs": [
    {
     "name": "stdout",
     "output_type": "stream",
     "text": [
      "enter the numeratora\n",
      "numerator and denominator should be integer\n",
      "enter the numerator2\n",
      "enter the denominator3\n",
      "0.6666666666666666\n"
     ]
    }
   ],
   "source": [
    "while True:\n",
    "    try:\n",
    "        num=int(input(\"enter the numerator\"))\n",
    "        den=int(input(\"enter the denominator\"))\n",
    "        value=num/den\n",
    "        print(value)\n",
    "        break\n",
    "    except ValueError:\n",
    "        print(\"numerator and denominator should be integer\")"
   ]
  },
  {
   "cell_type": "code",
   "execution_count": 25,
   "id": "2a092ad9",
   "metadata": {},
   "outputs": [
    {
     "name": "stdout",
     "output_type": "stream",
     "text": [
      "enter the numerator3\n",
      "enter the denominator0\n",
      "denominator should not be zero\n",
      "enter the numerator2\n",
      "enter the denominatora\n",
      "numerator and denominator should be integer\n",
      "enter the numerator2\n",
      "enter the denominator3\n",
      "0.6666666666666666\n"
     ]
    }
   ],
   "source": [
    "while True:\n",
    "    try:\n",
    "        num=int(input(\"enter the numerator\"))\n",
    "        den=int(input(\"enter the denominator\"))\n",
    "        value=num/den\n",
    "        print(value)\n",
    "        break\n",
    "    except ValueError:\n",
    "        print(\"numerator and denominator should be integer\")\n",
    "        \n",
    "    except ZeroDivisionError:\n",
    "        print(\"denominator should not be zero\")"
   ]
  },
  {
   "cell_type": "code",
   "execution_count": 26,
   "id": "57d26586",
   "metadata": {},
   "outputs": [
    {
     "name": "stdout",
     "output_type": "stream",
     "text": [
      "enter the numerator3\n",
      "enter the denominator0\n",
      "numerator and denominator should be integer and denominator should not be zero\n",
      "enter the numerator2\n",
      "enter the denominatora\n",
      "numerator and denominator should be integer and denominator should not be zero\n",
      "enter the numerator2\n",
      "enter the denominator4\n",
      "0.5\n"
     ]
    }
   ],
   "source": [
    "while True:\n",
    "    try:\n",
    "        num=int(input(\"enter the numerator\"))\n",
    "        den=int(input(\"enter the denominator\"))\n",
    "        value=num/den\n",
    "        print(value)\n",
    "        break\n",
    "    except (ValueError,ZeroDivisionError):\n",
    "        print(\"numerator and denominator should be integer and denominator should not be zero\")"
   ]
  },
  {
   "cell_type": "code",
   "execution_count": 28,
   "id": "8c4aa921",
   "metadata": {},
   "outputs": [
    {
     "name": "stdout",
     "output_type": "stream",
     "text": [
      "enter the numerator3\n",
      "enter the denominator0\n",
      "denominator should not be zero\n",
      "enter the numerator2\n",
      "enter the denominator3\n",
      "hi\n",
      "0.6666666666666666\n"
     ]
    }
   ],
   "source": [
    "while True:\n",
    "    try:\n",
    "        num=int(input(\"enter the numerator\"))\n",
    "        den=int(input(\"enter the denominator\"))\n",
    "        if den==0:\n",
    "            raise ZeroDivisionError\n",
    "        print(\"hi\")\n",
    "        value=num/den\n",
    "        print(value)\n",
    "        break\n",
    "    except ValueError:\n",
    "        print(\"numerator and denominator should be integer\")\n",
    "        \n",
    "    except ZeroDivisionError:\n",
    "        print(\"denominator should not be zero\")"
   ]
  },
  {
   "cell_type": "code",
   "execution_count": 33,
   "id": "fd88ca36",
   "metadata": {},
   "outputs": [
    {
     "ename": "NameError",
     "evalue": "name 'Execption' is not defined",
     "output_type": "error",
     "traceback": [
      "\u001b[1;31m---------------------------------------------------------------------------\u001b[0m",
      "\u001b[1;31mNameError\u001b[0m                                 Traceback (most recent call last)",
      "Cell \u001b[1;32mIn[33], line 1\u001b[0m\n\u001b[1;32m----> 1\u001b[0m \u001b[38;5;28;01mclass\u001b[39;00m \u001b[38;5;21;01mZeroDenominatorError\u001b[39;00m(Execption):\n\u001b[0;32m      2\u001b[0m     \u001b[38;5;28;01mpass\u001b[39;00m\n\u001b[0;32m      3\u001b[0m \u001b[38;5;28;01mwhile\u001b[39;00m \u001b[38;5;28;01mTrue\u001b[39;00m:\n",
      "\u001b[1;31mNameError\u001b[0m: name 'Execption' is not defined"
     ]
    }
   ],
   "source": [
    "class ZeroDenominatorError(Execption):\n",
    "    pass\n",
    "while True:\n",
    "    try:\n",
    "        num=int(input(\"enter the numerator\"))\n",
    "        den=int(input(\"enter the denominator\"))\n",
    "        if den==0:\n",
    "            raise ZeroDenominatorError(\"Denominator should not be zero\")\n",
    "        print(\"hi\")\n",
    "        value=num/den\n",
    "        print(value)\n",
    "        break\n",
    "    except ValueError:\n",
    "        print(\"numerator and denominator should be integer\")\n",
    "        \n",
    "    except ZeroDivisionError:\n",
    "        print(\"division by zero is not allowed\")"
   ]
  },
  {
   "cell_type": "code",
   "execution_count": null,
   "id": "d5514643",
   "metadata": {},
   "outputs": [],
   "source": [
    "class ZeroDenominatorError(Execption):\n",
    "    pass\n",
    "while True:\n",
    "    try:\n",
    "        num=int(input(\"enter the numerator\"))\n",
    "        den=int(input(\"enter the denominator\"))\n",
    "        if den==0:\n",
    "            raise ZeroDenominatorError(\"Denominator should not be zero\")\n",
    "        print(\"hi\")\n",
    "        value=num/den\n",
    "        print(value)\n",
    "        break\n",
    "    except ValueError:\n",
    "        print(\"numerator and denominator should be integer\")\n",
    "        \n",
    "    except ZeroDivisionError:\n",
    "        print(\"division by zero is not allowed\")\n",
    "    except ZeroDenominatorError:\n",
    "        print(\"Denominator should not be zero\")"
   ]
  },
  {
   "cell_type": "code",
   "execution_count": 34,
   "id": "22f449bb",
   "metadata": {},
   "outputs": [
    {
     "name": "stdout",
     "output_type": "stream",
     "text": [
      "enter the numerator2\n",
      "enter the denominator0\n",
      "division by zero is not allowed\n",
      "enter the numerator2\n",
      "enter the denominator3\n",
      "hi\n",
      "0.6666666666666666\n"
     ]
    }
   ],
   "source": [
    "class ZeroDenominatorError(ZeroDivisionError):\n",
    "    pass\n",
    "while True:\n",
    "    try:\n",
    "        num=int(input(\"enter the numerator\"))\n",
    "        den=int(input(\"enter the denominator\"))\n",
    "        if den==0:\n",
    "            raise ZeroDenominatorError(\"Denominator should not be zero\")\n",
    "        print(\"hi\")\n",
    "        value=num/den\n",
    "        print(value)\n",
    "        break\n",
    "    except ValueError:\n",
    "        print(\"numerator and denominator should be integer\")\n",
    "        \n",
    "    except ZeroDivisionError:\n",
    "        print(\"division by zero is not allowed\")\n",
    "    except ZeroDenominatorError:\n",
    "        print(\"Denominator should not be zero\")"
   ]
  },
  {
   "cell_type": "code",
   "execution_count": 36,
   "id": "a4c95884",
   "metadata": {},
   "outputs": [
    {
     "name": "stdout",
     "output_type": "stream",
     "text": [
      "enter the numerator3\n",
      "enter the denominator0\n",
      "Denominator should not be zeroo\n",
      "enter the numerator2\n",
      "enter the denominator3\n",
      "hi\n",
      "0.6666666666666666\n"
     ]
    }
   ],
   "source": [
    "class ZeroDenominatorError(ZeroDivisionError):\n",
    "    pass\n",
    "while True:\n",
    "    try:\n",
    "        num=int(input(\"enter the numerator\"))\n",
    "        den=int(input(\"enter the denominator\"))\n",
    "        if den==0:\n",
    "            raise ZeroDenominatorError(\"Denominator should not be zero\")\n",
    "        print(\"hi\")\n",
    "        value=num/den\n",
    "        print(value)\n",
    "        break\n",
    "    except ValueError:\n",
    "        print(\"numerator and denominator should be integer\")\n",
    "    except ZeroDenominatorError:\n",
    "        print(\"Denominator should not be zeroo\")    \n",
    "    except ZeroDivisionError:\n",
    "        print(\"division by zero is not allowed\")\n",
    "    "
   ]
  },
  {
   "cell_type": "code",
   "execution_count": 38,
   "id": "322045cc",
   "metadata": {},
   "outputs": [
    {
     "name": "stdout",
     "output_type": "stream",
     "text": [
      "enter the numerator2\n",
      "enter the denominatora\n",
      "numerator and denominator should be integer\n",
      "enter the numerator2\n",
      "enter the denominator5\n",
      "hi\n",
      "0.4\n"
     ]
    }
   ],
   "source": [
    "class ZeroDenominatorError(ZeroDivisionError):\n",
    "    pass\n",
    "while True:\n",
    "    try:\n",
    "        num=int(input(\"enter the numerator\"))\n",
    "        den=int(input(\"enter the denominator\"))\n",
    "        if den==0:\n",
    "            raise ZeroDenominatorError(\"Denominator should not be zero\")\n",
    "        print(\"hi\")\n",
    "        value=num/den\n",
    "        print(value)\n",
    "        break\n",
    "    except ValueError:\n",
    "        print(\"numerator and denominator should be integer\")\n",
    "    except ZeroDenominatorError:\n",
    "        print(\"Denominator should not be zeroo\")    \n",
    "    except ZeroDivisionError:\n",
    "        print(\"division by zero is not allowed\")\n",
    "    except :\n",
    "        print(\"some exception is raised\")"
   ]
  },
  {
   "cell_type": "code",
   "execution_count": 39,
   "id": "7a3e6fa1",
   "metadata": {},
   "outputs": [
    {
     "name": "stdout",
     "output_type": "stream",
     "text": [
      "enter the numerator5\n",
      "enter the denominator2\n",
      "hi\n",
      "2.5\n"
     ]
    }
   ],
   "source": [
    "class ZeroDenominatorError(ZeroDivisionError):\n",
    "    pass\n",
    "while True:\n",
    "    try:\n",
    "        num=int(input(\"enter the numerator\"))\n",
    "        den=int(input(\"enter the denominator\"))\n",
    "        if den==0:\n",
    "            raise ZeroDenominatorError(\"Denominator should not be zero\")\n",
    "        print(\"hi\")\n",
    "        value=num/den\n",
    "    except ValueError:\n",
    "        print(\"numerator and denominator should be integer\")\n",
    "    except ZeroDenominatorError:\n",
    "        print(\"Denominator should not be zeroo\")    \n",
    "    except ZeroDivisionError:\n",
    "        print(\"division by zero is not allowed\")\n",
    "    except :\n",
    "        print(\"some exception is raised\")\n",
    "        \n",
    "    else:\n",
    "        print(value)\n",
    "        break"
   ]
  },
  {
   "cell_type": "code",
   "execution_count": 41,
   "id": "f889e9e0",
   "metadata": {},
   "outputs": [
    {
     "name": "stdout",
     "output_type": "stream",
     "text": [
      "enter the numerator2\n",
      "enter the denominator0\n",
      "Denominator should not be zeroo\n",
      "exception may or may not be raised\n",
      "enter the numerator2\n",
      "enter the denominator3\n",
      "hi\n",
      "0.6666666666666666\n",
      "exception may or may not be raised\n"
     ]
    }
   ],
   "source": [
    "class ZeroDenominatorError(ZeroDivisionError):\n",
    "    pass\n",
    "while True:\n",
    "    try:\n",
    "        num=int(input(\"enter the numerator\"))\n",
    "        den=int(input(\"enter the denominator\"))\n",
    "        if den==0:\n",
    "            raise ZeroDenominatorError(\"Denominator should not be zero\")\n",
    "        print(\"hi\")\n",
    "        value=num/den\n",
    "    except ValueError:\n",
    "        print(\"numerator and denominator should be integer\")\n",
    "    except ZeroDenominatorError:\n",
    "        print(\"Denominator should not be zeroo\")    \n",
    "    except ZeroDivisionError:\n",
    "        print(\"division by zero is not allowed\")\n",
    "    except :\n",
    "        print(\"some exception is raised\")\n",
    "        \n",
    "    else:\n",
    "        print(value)\n",
    "        break\n",
    "        \n",
    "    finally:\n",
    "        print(\"exception may or may not be raised\")"
   ]
  },
  {
   "cell_type": "code",
   "execution_count": 43,
   "id": "06dc2f55",
   "metadata": {},
   "outputs": [
    {
     "name": "stdout",
     "output_type": "stream",
     "text": [
      "enter the numerator2\n",
      "enter the denominatorb\n",
      "numerator and denominator should be integer\n",
      "2\n",
      "4\n",
      "exception may or may not be raised\n",
      "some exception is raised\n",
      "2\n",
      "4\n",
      "exception may or may not be raised\n",
      "some exception is raised\n",
      "2\n",
      "4\n",
      "exception may or may not be raised\n",
      "some exception is raised\n",
      "2\n",
      "4\n",
      "exception may or may not be raised\n",
      "enter the numerator3\n",
      "enter the denominatorb\n",
      "numerator and denominator should be integer\n",
      "3\n",
      "4\n",
      "exception may or may not be raised\n",
      "enter the numerator2\n",
      "enter the denominator3\n",
      "hi\n",
      "0.6666666666666666\n",
      "2\n",
      "3\n",
      "exception may or may not be raised\n"
     ]
    }
   ],
   "source": [
    "class ZeroDenominatorError(ZeroDivisionError):\n",
    "    pass\n",
    "while True:\n",
    "    try:\n",
    "        num=int(input(\"enter the numerator\"))\n",
    "        den=int(input(\"enter the denominator\"))\n",
    "        if den==0:\n",
    "            raise ZeroDenominatorError(\"Denominator should not be zero\")\n",
    "        print(\"hi\")\n",
    "        value=num/den\n",
    "    except ValueError:\n",
    "        print(\"numerator and denominator should be integer\")\n",
    "    except ZeroDenominatorError:\n",
    "        print(\"Denominator should not be zeroo\")    \n",
    "    except ZeroDivisionError:\n",
    "        print(\"division by zero is not allowed\")\n",
    "    except :\n",
    "        print(\"some exception is raised\")\n",
    "        \n",
    "    else:\n",
    "        print(value)\n",
    "        break\n",
    "        \n",
    "    finally:\n",
    "        print(num)\n",
    "        print(den)\n",
    "        print(\"exception may or may not be raised\")"
   ]
  },
  {
   "cell_type": "code",
   "execution_count": 45,
   "id": "eee73e97",
   "metadata": {},
   "outputs": [
    {
     "name": "stdout",
     "output_type": "stream",
     "text": [
      "enter the numerator5\n",
      "enter the denominator0\n",
      "Denominator should not be zeroo\n",
      "5\n",
      "0\n",
      "2.5\n",
      "exception may or may not be raised\n",
      "enter the numerator4\n",
      "enter the denominator5\n",
      "hi\n",
      "0.8\n",
      "4\n",
      "5\n",
      "0.8\n",
      "exception may or may not be raised\n"
     ]
    }
   ],
   "source": [
    "class ZeroDenominatorError(ZeroDivisionError):\n",
    "    pass\n",
    "while True:\n",
    "    try:\n",
    "        num=int(input(\"enter the numerator\"))\n",
    "        den=int(input(\"enter the denominator\"))\n",
    "        if den==0:\n",
    "            raise ZeroDenominatorError(\"Denominator should not be zero\")\n",
    "        print(\"hi\")\n",
    "        value=num/den\n",
    "    except ValueError:\n",
    "        print(\"numerator and denominator should be integer\")\n",
    "    except ZeroDenominatorError:\n",
    "        print(\"Denominator should not be zeroo\")    \n",
    "    except ZeroDivisionError:\n",
    "        print(\"division by zero is not allowed\")\n",
    "    except :\n",
    "        print(\"some exception is raised\")\n",
    "        \n",
    "    else:\n",
    "        print(value)\n",
    "    finally:\n",
    "        print(num)\n",
    "        print(den)\n",
    "        print(value)\n",
    "        print(\"exception may or may not be raised\")"
   ]
  },
  {
   "cell_type": "code",
   "execution_count": null,
   "id": "c2953e9f",
   "metadata": {},
   "outputs": [],
   "source": []
  }
 ],
 "metadata": {
  "kernelspec": {
   "display_name": "Python 3 (ipykernel)",
   "language": "python",
   "name": "python3"
  },
  "language_info": {
   "codemirror_mode": {
    "name": "ipython",
    "version": 3
   },
   "file_extension": ".py",
   "mimetype": "text/x-python",
   "name": "python",
   "nbconvert_exporter": "python",
   "pygments_lexer": "ipython3",
   "version": "3.11.5"
  }
 },
 "nbformat": 4,
 "nbformat_minor": 5
}
