{
 "cells": [
  {
   "cell_type": "code",
   "execution_count": 75,
   "id": "220eebe2",
   "metadata": {},
   "outputs": [],
   "source": [
    "class student:\n",
    "    #name=\" \"\n",
    "    #rollnumber=12\n",
    "    pass"
   ]
  },
  {
   "cell_type": "code",
   "execution_count": 76,
   "id": "392eaf85",
   "metadata": {},
   "outputs": [],
   "source": [
    "class student:\n",
    "    pass"
   ]
  },
  {
   "cell_type": "code",
   "execution_count": 77,
   "id": "5966f0d0",
   "metadata": {},
   "outputs": [],
   "source": [
    "s1=student()"
   ]
  },
  {
   "cell_type": "code",
   "execution_count": 78,
   "id": "1e97eca4",
   "metadata": {},
   "outputs": [
    {
     "name": "stdout",
     "output_type": "stream",
     "text": [
      "<__main__.student object at 0x000001F9AA404450>\n"
     ]
    }
   ],
   "source": [
    "print(s1)"
   ]
  },
  {
   "cell_type": "code",
   "execution_count": 79,
   "id": "39bb09ad",
   "metadata": {},
   "outputs": [
    {
     "name": "stdout",
     "output_type": "stream",
     "text": [
      "<class '__main__.student'>\n",
      "<class 'list'>\n"
     ]
    }
   ],
   "source": [
    "print(type(s1))\n",
    "l=list()\n",
    "print(type(l))"
   ]
  },
  {
   "cell_type": "code",
   "execution_count": 80,
   "id": "0255d636",
   "metadata": {},
   "outputs": [
    {
     "name": "stdout",
     "output_type": "stream",
     "text": [
      "<__main__.student object at 0x000001F9AABFED10> <__main__.student object at 0x000001F9AABE8D50>\n"
     ]
    }
   ],
   "source": [
    "s2=student()\n",
    "s3=student()\n",
    "print(s2,s3)"
   ]
  },
  {
   "cell_type": "code",
   "execution_count": 81,
   "id": "6d3f7b8f",
   "metadata": {},
   "outputs": [],
   "source": [
    "s1.name=\"jatin\""
   ]
  },
  {
   "cell_type": "code",
   "execution_count": 82,
   "id": "08ac8b20",
   "metadata": {},
   "outputs": [],
   "source": [
    "s2.rollnumber=12"
   ]
  },
  {
   "cell_type": "code",
   "execution_count": 83,
   "id": "80ebd4ba",
   "metadata": {},
   "outputs": [],
   "source": [
    "s3.name=\"aman\"\n",
    "s3.rollnumber=13"
   ]
  },
  {
   "cell_type": "code",
   "execution_count": 84,
   "id": "9b981a93",
   "metadata": {},
   "outputs": [
    {
     "data": {
      "text/plain": [
       "'jatin'"
      ]
     },
     "execution_count": 84,
     "metadata": {},
     "output_type": "execute_result"
    }
   ],
   "source": [
    "s1.name"
   ]
  },
  {
   "cell_type": "code",
   "execution_count": 85,
   "id": "344d7294",
   "metadata": {},
   "outputs": [
    {
     "ename": "AttributeError",
     "evalue": "'student' object has no attribute 'name'",
     "output_type": "error",
     "traceback": [
      "\u001b[1;31m---------------------------------------------------------------------------\u001b[0m",
      "\u001b[1;31mAttributeError\u001b[0m                            Traceback (most recent call last)",
      "Cell \u001b[1;32mIn[85], line 1\u001b[0m\n\u001b[1;32m----> 1\u001b[0m s2\u001b[38;5;241m.\u001b[39mname\n",
      "\u001b[1;31mAttributeError\u001b[0m: 'student' object has no attribute 'name'"
     ]
    }
   ],
   "source": [
    "s2.name"
   ]
  },
  {
   "cell_type": "code",
   "execution_count": 86,
   "id": "0ed8cf89",
   "metadata": {},
   "outputs": [
    {
     "data": {
      "text/plain": [
       "{'name': 'jatin'}"
      ]
     },
     "execution_count": 86,
     "metadata": {},
     "output_type": "execute_result"
    }
   ],
   "source": [
    "s1.__dict__"
   ]
  },
  {
   "cell_type": "code",
   "execution_count": 87,
   "id": "bcc6903e",
   "metadata": {},
   "outputs": [
    {
     "data": {
      "text/plain": [
       "{'rollnumber': 12}"
      ]
     },
     "execution_count": 87,
     "metadata": {},
     "output_type": "execute_result"
    }
   ],
   "source": [
    "s2.__dict__"
   ]
  },
  {
   "cell_type": "code",
   "execution_count": 88,
   "id": "4e009ae2",
   "metadata": {},
   "outputs": [
    {
     "data": {
      "text/plain": [
       "{'name': 'aman', 'rollnumber': 13}"
      ]
     },
     "execution_count": 88,
     "metadata": {},
     "output_type": "execute_result"
    }
   ],
   "source": [
    "s3.__dict__"
   ]
  },
  {
   "cell_type": "code",
   "execution_count": 89,
   "id": "77429888",
   "metadata": {},
   "outputs": [
    {
     "data": {
      "text/plain": [
       "True"
      ]
     },
     "execution_count": 89,
     "metadata": {},
     "output_type": "execute_result"
    }
   ],
   "source": [
    "hasattr(s1,\"name\")"
   ]
  },
  {
   "cell_type": "code",
   "execution_count": 90,
   "id": "7f6fda52",
   "metadata": {},
   "outputs": [
    {
     "data": {
      "text/plain": [
       "False"
      ]
     },
     "execution_count": 90,
     "metadata": {},
     "output_type": "execute_result"
    }
   ],
   "source": [
    "hasattr(s2,\"name\")"
   ]
  },
  {
   "cell_type": "code",
   "execution_count": 91,
   "id": "371aef41",
   "metadata": {},
   "outputs": [
    {
     "data": {
      "text/plain": [
       "'jatin'"
      ]
     },
     "execution_count": 91,
     "metadata": {},
     "output_type": "execute_result"
    }
   ],
   "source": [
    "getattr(s1,\"name\")"
   ]
  },
  {
   "cell_type": "code",
   "execution_count": 92,
   "id": "7e460268",
   "metadata": {},
   "outputs": [
    {
     "ename": "AttributeError",
     "evalue": "'student' object has no attribute 'name'",
     "output_type": "error",
     "traceback": [
      "\u001b[1;31m---------------------------------------------------------------------------\u001b[0m",
      "\u001b[1;31mAttributeError\u001b[0m                            Traceback (most recent call last)",
      "Cell \u001b[1;32mIn[92], line 1\u001b[0m\n\u001b[1;32m----> 1\u001b[0m \u001b[38;5;28mgetattr\u001b[39m(s2,\u001b[38;5;124m\"\u001b[39m\u001b[38;5;124mname\u001b[39m\u001b[38;5;124m\"\u001b[39m)\n",
      "\u001b[1;31mAttributeError\u001b[0m: 'student' object has no attribute 'name'"
     ]
    }
   ],
   "source": [
    "getattr(s2,\"name\")"
   ]
  },
  {
   "cell_type": "code",
   "execution_count": 94,
   "id": "9145e22a",
   "metadata": {},
   "outputs": [
    {
     "data": {
      "text/plain": [
       "''"
      ]
     },
     "execution_count": 94,
     "metadata": {},
     "output_type": "execute_result"
    }
   ],
   "source": [
    "getattr(s2,\"name\",\"\")"
   ]
  },
  {
   "cell_type": "code",
   "execution_count": 95,
   "id": "3295644d",
   "metadata": {},
   "outputs": [],
   "source": [
    "delattr(s1,\"name\")"
   ]
  },
  {
   "cell_type": "code",
   "execution_count": 96,
   "id": "3b08c8d9",
   "metadata": {},
   "outputs": [
    {
     "data": {
      "text/plain": [
       "{}"
      ]
     },
     "execution_count": 96,
     "metadata": {},
     "output_type": "execute_result"
    }
   ],
   "source": [
    "s1.__dict__"
   ]
  },
  {
   "cell_type": "code",
   "execution_count": 104,
   "id": "c7228f6b",
   "metadata": {},
   "outputs": [],
   "source": [
    "class student:\n",
    "    passingpercentage=40\n",
    "    def studentdetails(self):\n",
    "        self.name=\"jatin\"\n",
    "        print(\"Name = \",self.name)\n",
    "        self.percentage=80\n",
    "        print(\"Percentage = \",self.percentage)\n",
    "        pass\n",
    "    def ispassed(self):\n",
    "        if self.percentage>student.passingpercentage:\n",
    "            print(\"passed\")\n",
    "        else:\n",
    "            print(\"not passed\")"
   ]
  },
  {
   "cell_type": "code",
   "execution_count": 105,
   "id": "e7674139",
   "metadata": {},
   "outputs": [
    {
     "name": "stdout",
     "output_type": "stream",
     "text": [
      "Name =  jatin\n",
      "Percentage =  80\n"
     ]
    }
   ],
   "source": [
    "s1=student()\n",
    "s1.studentdetails()"
   ]
  },
  {
   "cell_type": "code",
   "execution_count": 101,
   "id": "8d8e8d09",
   "metadata": {},
   "outputs": [
    {
     "name": "stdout",
     "output_type": "stream",
     "text": [
      "Name =  jatin\n",
      "Percentage =  80\n",
      "passed\n"
     ]
    }
   ],
   "source": [
    "student.studentdetails(s1)\n",
    "s1.ispassed()"
   ]
  },
  {
   "cell_type": "code",
   "execution_count": 106,
   "id": "db1d7939",
   "metadata": {},
   "outputs": [],
   "source": [
    "class student:\n",
    "    passingpercentage=40\n",
    "    def studentdetails(self):\n",
    "        self.name=\"jatin\"\n",
    "        print(\"Name = \",self.name)\n",
    "        self.percentage=80\n",
    "        print(\"Percentage = \",self.percentage)\n",
    "        pass\n",
    "    def ispassed(self):\n",
    "        if self.percentage>student.passingpercentage:\n",
    "            print(\"passed\")\n",
    "        else:\n",
    "            print(\"not passed\")\n",
    "            \n",
    "    @staticmethod\n",
    "    def welcometoschool():\n",
    "        print(\"hey!welcome to school\")"
   ]
  },
  {
   "cell_type": "code",
   "execution_count": 107,
   "id": "a3b54110",
   "metadata": {},
   "outputs": [],
   "source": [
    "s=student()"
   ]
  },
  {
   "cell_type": "code",
   "execution_count": 109,
   "id": "5ff78704",
   "metadata": {},
   "outputs": [
    {
     "name": "stdout",
     "output_type": "stream",
     "text": [
      "hey!welcome to school\n"
     ]
    }
   ],
   "source": [
    "s.welcometoschool()"
   ]
  },
  {
   "cell_type": "code",
   "execution_count": 4,
   "id": "6936f2a3",
   "metadata": {},
   "outputs": [],
   "source": [
    "class student:\n",
    "    def __init__(self):\n",
    "        self.name=\"jatin\"\n",
    "        self.rollnumber=13"
   ]
  },
  {
   "cell_type": "code",
   "execution_count": 5,
   "id": "044fdf0f",
   "metadata": {},
   "outputs": [],
   "source": [
    "s1=student()"
   ]
  },
  {
   "cell_type": "code",
   "execution_count": 7,
   "id": "dc6378f1",
   "metadata": {},
   "outputs": [
    {
     "data": {
      "text/plain": [
       "{'name': 'jatin', 'rollnumber': 13}"
      ]
     },
     "execution_count": 7,
     "metadata": {},
     "output_type": "execute_result"
    }
   ],
   "source": [
    "s1.__dict__"
   ]
  },
  {
   "cell_type": "code",
   "execution_count": 8,
   "id": "d1534256",
   "metadata": {},
   "outputs": [],
   "source": [
    "s2=student()"
   ]
  },
  {
   "cell_type": "code",
   "execution_count": 9,
   "id": "80c935db",
   "metadata": {},
   "outputs": [
    {
     "data": {
      "text/plain": [
       "{'name': 'jatin', 'rollnumber': 13}"
      ]
     },
     "execution_count": 9,
     "metadata": {},
     "output_type": "execute_result"
    }
   ],
   "source": [
    "s2.__dict__"
   ]
  },
  {
   "cell_type": "code",
   "execution_count": 10,
   "id": "729d3144",
   "metadata": {},
   "outputs": [
    {
     "data": {
      "text/plain": [
       "(<__main__.student at 0x16311512410>, <__main__.student at 0x16310793fd0>)"
      ]
     },
     "execution_count": 10,
     "metadata": {},
     "output_type": "execute_result"
    }
   ],
   "source": [
    "s1,s2"
   ]
  },
  {
   "cell_type": "code",
   "execution_count": 11,
   "id": "d24786f2",
   "metadata": {},
   "outputs": [],
   "source": [
    "s1.name=\"aman\"\n",
    "s1.rollnumber=12"
   ]
  },
  {
   "cell_type": "code",
   "execution_count": 12,
   "id": "b562485b",
   "metadata": {},
   "outputs": [
    {
     "data": {
      "text/plain": [
       "{'name': 'aman', 'rollnumber': 12}"
      ]
     },
     "execution_count": 12,
     "metadata": {},
     "output_type": "execute_result"
    }
   ],
   "source": [
    "s1.__dict__"
   ]
  },
  {
   "cell_type": "code",
   "execution_count": 13,
   "id": "c0374ddc",
   "metadata": {},
   "outputs": [],
   "source": [
    "s2.name='abhi'\n",
    "s2.rollnumber=13"
   ]
  },
  {
   "cell_type": "code",
   "execution_count": 14,
   "id": "f23b9c8a",
   "metadata": {},
   "outputs": [
    {
     "data": {
      "text/plain": [
       "{'name': 'abhi', 'rollnumber': 13}"
      ]
     },
     "execution_count": 14,
     "metadata": {},
     "output_type": "execute_result"
    }
   ],
   "source": [
    "s2.__dict__"
   ]
  },
  {
   "cell_type": "code",
   "execution_count": 15,
   "id": "44365007",
   "metadata": {},
   "outputs": [
    {
     "ename": "TypeError",
     "evalue": "student.__init__() takes 1 positional argument but 3 were given",
     "output_type": "error",
     "traceback": [
      "\u001b[1;31m---------------------------------------------------------------------------\u001b[0m",
      "\u001b[1;31mTypeError\u001b[0m                                 Traceback (most recent call last)",
      "Cell \u001b[1;32mIn[15], line 1\u001b[0m\n\u001b[1;32m----> 1\u001b[0m s3\u001b[38;5;241m=\u001b[39mstudent(\u001b[38;5;124m\"\u001b[39m\u001b[38;5;124mpari\u001b[39m\u001b[38;5;124m\"\u001b[39m,\u001b[38;5;241m14\u001b[39m)\n",
      "\u001b[1;31mTypeError\u001b[0m: student.__init__() takes 1 positional argument but 3 were given"
     ]
    }
   ],
   "source": [
    "s3=student(\"pari\",14)"
   ]
  },
  {
   "cell_type": "code",
   "execution_count": 18,
   "id": "97be3a75",
   "metadata": {},
   "outputs": [],
   "source": [
    "class student:\n",
    "    def __init__(self,name,rollnumber):\n",
    "        self.name=name\n",
    "        self.rollnumber=rollnumber"
   ]
  },
  {
   "cell_type": "code",
   "execution_count": 20,
   "id": "60340bdf",
   "metadata": {},
   "outputs": [],
   "source": [
    "s3=student(\"pari\",14)"
   ]
  },
  {
   "cell_type": "code",
   "execution_count": 21,
   "id": "d5d82382",
   "metadata": {},
   "outputs": [
    {
     "data": {
      "text/plain": [
       "{'name': 'pari', 'rollnumber': 14}"
      ]
     },
     "execution_count": 21,
     "metadata": {},
     "output_type": "execute_result"
    }
   ],
   "source": [
    "s3.__dict__"
   ]
  },
  {
   "cell_type": "code",
   "execution_count": 37,
   "id": "8a835084",
   "metadata": {},
   "outputs": [],
   "source": [
    "from datetime import date\n",
    "class student:\n",
    "    \n",
    "    def __init__(self,name,age,percentage):\n",
    "        self.name=name\n",
    "        self.age=age\n",
    "        self.percentage=percentage\n",
    "    \n",
    "    @classmethod\n",
    "    def frombirthyear(cls,name,year,percentage):\n",
    "        return cls(name,date.today().year-year,percentage)\n",
    "    \n",
    "    def studentdetails(self):\n",
    "        print(\"Name = \",self.name)\n",
    "        print(\"age = \",self.age)\n",
    "        print(\"Percentage = \",self.percentage)"
   ]
  },
  {
   "cell_type": "code",
   "execution_count": 38,
   "id": "6d15e36c",
   "metadata": {},
   "outputs": [],
   "source": [
    "s1=student.frombirthyear(\"jatin\",2003,80)"
   ]
  },
  {
   "cell_type": "code",
   "execution_count": 40,
   "id": "e98cc21d",
   "metadata": {},
   "outputs": [
    {
     "name": "stdout",
     "output_type": "stream",
     "text": [
      "Name =  jatin\n",
      "age =  21\n",
      "Percentage =  80\n"
     ]
    }
   ],
   "source": [
    "s1.studentdetails()"
   ]
  },
  {
   "cell_type": "code",
   "execution_count": 42,
   "id": "cd3904e0",
   "metadata": {},
   "outputs": [],
   "source": [
    "class student:\n",
    "    \n",
    "    def __init__(self,name,age=20,percentage=80):\n",
    "        self.__name=name\n",
    "        self.age=age\n",
    "        self.percentage=percentage\n",
    "    \n",
    "    @classmethod\n",
    "    def frombirthyear(cls,name,year,percentage):\n",
    "        return cls(name,date.today().year-year,percentage)\n",
    "    \n",
    "    def studentdetails(self):\n",
    "        print(\"Name = \",self.__name)\n",
    "        print(\"age = \",self.age)\n",
    "        print(\"Percentage = \",self.percentage)"
   ]
  },
  {
   "cell_type": "code",
   "execution_count": 43,
   "id": "f2786ab1",
   "metadata": {},
   "outputs": [],
   "source": [
    "s1=student(\"jatin\")"
   ]
  },
  {
   "cell_type": "code",
   "execution_count": 44,
   "id": "882117b2",
   "metadata": {},
   "outputs": [
    {
     "ename": "AttributeError",
     "evalue": "'student' object has no attribute '__name'",
     "output_type": "error",
     "traceback": [
      "\u001b[1;31m---------------------------------------------------------------------------\u001b[0m",
      "\u001b[1;31mAttributeError\u001b[0m                            Traceback (most recent call last)",
      "Cell \u001b[1;32mIn[44], line 1\u001b[0m\n\u001b[1;32m----> 1\u001b[0m \u001b[38;5;28mprint\u001b[39m(s1\u001b[38;5;241m.\u001b[39m__name)\n",
      "\u001b[1;31mAttributeError\u001b[0m: 'student' object has no attribute '__name'"
     ]
    }
   ],
   "source": [
    "print(s1.__name)"
   ]
  },
  {
   "cell_type": "code",
   "execution_count": 45,
   "id": "abec704b",
   "metadata": {},
   "outputs": [
    {
     "ename": "AttributeError",
     "evalue": "'student' object has no attribute 'name'",
     "output_type": "error",
     "traceback": [
      "\u001b[1;31m---------------------------------------------------------------------------\u001b[0m",
      "\u001b[1;31mAttributeError\u001b[0m                            Traceback (most recent call last)",
      "Cell \u001b[1;32mIn[45], line 1\u001b[0m\n\u001b[1;32m----> 1\u001b[0m s1\u001b[38;5;241m.\u001b[39mname\n",
      "\u001b[1;31mAttributeError\u001b[0m: 'student' object has no attribute 'name'"
     ]
    }
   ],
   "source": [
    "s1.name"
   ]
  },
  {
   "cell_type": "code",
   "execution_count": 47,
   "id": "5d1d7891",
   "metadata": {},
   "outputs": [
    {
     "name": "stdout",
     "output_type": "stream",
     "text": [
      "Name =  jatin\n",
      "age =  20\n",
      "Percentage =  80\n"
     ]
    }
   ],
   "source": [
    "s1.studentdetails()"
   ]
  },
  {
   "cell_type": "code",
   "execution_count": 49,
   "id": "4f416c9b",
   "metadata": {},
   "outputs": [
    {
     "data": {
      "text/plain": [
       "'jatin'"
      ]
     },
     "execution_count": 49,
     "metadata": {},
     "output_type": "execute_result"
    }
   ],
   "source": [
    "##prohibited for developers\n",
    "s1._student__name"
   ]
  },
  {
   "cell_type": "code",
   "execution_count": null,
   "id": "00d3524f",
   "metadata": {},
   "outputs": [],
   "source": []
  }
 ],
 "metadata": {
  "kernelspec": {
   "display_name": "Python 3 (ipykernel)",
   "language": "python",
   "name": "python3"
  },
  "language_info": {
   "codemirror_mode": {
    "name": "ipython",
    "version": 3
   },
   "file_extension": ".py",
   "mimetype": "text/x-python",
   "name": "python",
   "nbconvert_exporter": "python",
   "pygments_lexer": "ipython3",
   "version": "3.11.5"
  }
 },
 "nbformat": 4,
 "nbformat_minor": 5
}
