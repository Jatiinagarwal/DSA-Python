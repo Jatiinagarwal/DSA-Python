{
 "cells": [
  {
   "cell_type": "code",
   "execution_count": 5,
   "id": "c49f2ffc",
   "metadata": {},
   "outputs": [],
   "source": [
    "class vehicle:\n",
    "    def __init__(self,color,maxspeed):\n",
    "        self.color=color\n",
    "        self.maxspeed=maxspeed\n",
    "        \n",
    "class car(vehicle):\n",
    "    def __init__(self,color,maxspeed,numgears,isconvertible):\n",
    "        super().__init__(color,maxspeed)\n",
    "        self.numgears=numgears\n",
    "        self.isconvertible=isconvertible\n",
    "        \n",
    "    def printcar(self):\n",
    "        print(\"color :\",self.color)\n",
    "        print(\"maxspeed :\",self.maxspeed)\n",
    "        print(\"numgears :\",self.numgears)\n",
    "        print(\"isconvertible :\",self.isconvertible)"
   ]
  },
  {
   "cell_type": "code",
   "execution_count": 6,
   "id": "49ecdb6d",
   "metadata": {},
   "outputs": [
    {
     "name": "stdout",
     "output_type": "stream",
     "text": [
      "color : red\n",
      "maxspeed : 15\n",
      "numgears : 3\n",
      "isconvertible : False\n"
     ]
    }
   ],
   "source": [
    "c=car(\"red\",15,3,False)\n",
    "c.printcar()"
   ]
  },
  {
   "cell_type": "code",
   "execution_count": 7,
   "id": "5b79a1cf",
   "metadata": {},
   "outputs": [],
   "source": [
    "class vehicle:\n",
    "    def __init__(self,color,maxspeed):\n",
    "        self.color=color\n",
    "        self.__maxspeed=maxspeed\n",
    "        \n",
    "class car(vehicle):\n",
    "    def __init__(self,color,maxspeed,numgears,isconvertible):\n",
    "        super().__init__(color,maxspeed)\n",
    "        self.numgears=numgears\n",
    "        self.isconvertible=isconvertible\n",
    "        \n",
    "    def printcar(self):\n",
    "        print(\"color :\",self.color)\n",
    "        print(\"maxspeed :\",self.maxspeed)\n",
    "        print(\"numgears :\",self.numgears)\n",
    "        print(\"isconvertible :\",self.isconvertible)"
   ]
  },
  {
   "cell_type": "code",
   "execution_count": 8,
   "id": "393515c7",
   "metadata": {},
   "outputs": [
    {
     "name": "stdout",
     "output_type": "stream",
     "text": [
      "color : red\n"
     ]
    },
    {
     "ename": "AttributeError",
     "evalue": "'car' object has no attribute 'maxspeed'",
     "output_type": "error",
     "traceback": [
      "\u001b[1;31m---------------------------------------------------------------------------\u001b[0m",
      "\u001b[1;31mAttributeError\u001b[0m                            Traceback (most recent call last)",
      "Cell \u001b[1;32mIn[8], line 2\u001b[0m\n\u001b[0;32m      1\u001b[0m c\u001b[38;5;241m=\u001b[39mcar(\u001b[38;5;124m\"\u001b[39m\u001b[38;5;124mred\u001b[39m\u001b[38;5;124m\"\u001b[39m,\u001b[38;5;241m15\u001b[39m,\u001b[38;5;241m3\u001b[39m,\u001b[38;5;28;01mFalse\u001b[39;00m)\n\u001b[1;32m----> 2\u001b[0m c\u001b[38;5;241m.\u001b[39mprintcar()\n",
      "Cell \u001b[1;32mIn[7], line 14\u001b[0m, in \u001b[0;36mcar.printcar\u001b[1;34m(self)\u001b[0m\n\u001b[0;32m     12\u001b[0m \u001b[38;5;28;01mdef\u001b[39;00m \u001b[38;5;21mprintcar\u001b[39m(\u001b[38;5;28mself\u001b[39m):\n\u001b[0;32m     13\u001b[0m     \u001b[38;5;28mprint\u001b[39m(\u001b[38;5;124m\"\u001b[39m\u001b[38;5;124mcolor :\u001b[39m\u001b[38;5;124m\"\u001b[39m,\u001b[38;5;28mself\u001b[39m\u001b[38;5;241m.\u001b[39mcolor)\n\u001b[1;32m---> 14\u001b[0m     \u001b[38;5;28mprint\u001b[39m(\u001b[38;5;124m\"\u001b[39m\u001b[38;5;124mmaxspeed :\u001b[39m\u001b[38;5;124m\"\u001b[39m,\u001b[38;5;28mself\u001b[39m\u001b[38;5;241m.\u001b[39mmaxspeed)\n\u001b[0;32m     15\u001b[0m     \u001b[38;5;28mprint\u001b[39m(\u001b[38;5;124m\"\u001b[39m\u001b[38;5;124mnumgears :\u001b[39m\u001b[38;5;124m\"\u001b[39m,\u001b[38;5;28mself\u001b[39m\u001b[38;5;241m.\u001b[39mnumgears)\n\u001b[0;32m     16\u001b[0m     \u001b[38;5;28mprint\u001b[39m(\u001b[38;5;124m\"\u001b[39m\u001b[38;5;124misconvertible :\u001b[39m\u001b[38;5;124m\"\u001b[39m,\u001b[38;5;28mself\u001b[39m\u001b[38;5;241m.\u001b[39misconvertible)\n",
      "\u001b[1;31mAttributeError\u001b[0m: 'car' object has no attribute 'maxspeed'"
     ]
    }
   ],
   "source": [
    "c=car(\"red\",15,3,False)\n",
    "c.printcar()"
   ]
  },
  {
   "cell_type": "code",
   "execution_count": 9,
   "id": "a20e7565",
   "metadata": {},
   "outputs": [],
   "source": [
    "class vehicle:\n",
    "    def __init__(self,color,maxspeed):\n",
    "        self.color=color\n",
    "        self.__maxspeed=maxspeed\n",
    "        \n",
    "    def getmaxspeed(self):\n",
    "        return self.__maxspeed\n",
    "    \n",
    "    def setmaxspeed(self,maxspeed):\n",
    "        self.__maxspeed=maxspeed\n",
    "        \n",
    "class car(vehicle):\n",
    "    def __init__(self,color,maxspeed,numgears,isconvertible):\n",
    "        super().__init__(color,maxspeed)\n",
    "        self.numgears=numgears\n",
    "        self.isconvertible=isconvertible\n",
    "        \n",
    "    def printcar(self):\n",
    "        print(\"color :\",self.color)\n",
    "        print(\"maxspeed :\",self.getmaxspeed())\n",
    "        print(\"numgears :\",self.numgears)\n",
    "        print(\"isconvertible :\",self.isconvertible)"
   ]
  },
  {
   "cell_type": "code",
   "execution_count": 10,
   "id": "0f8f5bcf",
   "metadata": {},
   "outputs": [
    {
     "name": "stdout",
     "output_type": "stream",
     "text": [
      "color : red\n",
      "maxspeed : 15\n",
      "numgears : 3\n",
      "isconvertible : False\n"
     ]
    }
   ],
   "source": [
    "c=car(\"red\",15,3,False)\n",
    "c.printcar()"
   ]
  },
  {
   "cell_type": "code",
   "execution_count": 11,
   "id": "85ea03ef",
   "metadata": {},
   "outputs": [],
   "source": [
    "class vehicle:\n",
    "    def __init__(self,color,maxspeed):\n",
    "        self.color=color\n",
    "        self.__maxspeed=maxspeed\n",
    "        \n",
    "    def getmaxspeed(self):\n",
    "        return self.__maxspeed\n",
    "    \n",
    "    def setmaxspeed(self,maxspeed):\n",
    "        self.__maxspeed=maxspeed\n",
    "        \n",
    "    def print(self):\n",
    "        print(\"color :\",self.color)\n",
    "        print(\"maxspeed :\",self.__maxspeed)\n",
    "        \n",
    "class car(vehicle):\n",
    "    def __init__(self,color,maxspeed,numgears,isconvertible):\n",
    "        super().__init__(color,maxspeed)\n",
    "        self.numgears=numgears\n",
    "        self.isconvertible=isconvertible\n",
    "        \n",
    "    def printcar(self):\n",
    "        super().print()\n",
    "        print(\"numgears :\",self.numgears)\n",
    "        print(\"isconvertible :\",self.isconvertible)"
   ]
  },
  {
   "cell_type": "code",
   "execution_count": 12,
   "id": "1cca2f14",
   "metadata": {},
   "outputs": [
    {
     "name": "stdout",
     "output_type": "stream",
     "text": [
      "color : red\n",
      "maxspeed : 15\n",
      "numgears : 3\n",
      "isconvertible : False\n"
     ]
    }
   ],
   "source": [
    "c=car(\"red\",15,3,False)\n",
    "c.printcar()"
   ]
  },
  {
   "cell_type": "code",
   "execution_count": 13,
   "id": "60f335b1",
   "metadata": {},
   "outputs": [],
   "source": [
    "class vehicle:\n",
    "    def __init__(self,color,maxspeed):\n",
    "        self.color=color\n",
    "        self.__maxspeed=maxspeed\n",
    "        \n",
    "    def getmaxspeed(self):\n",
    "        return self.__maxspeed\n",
    "    \n",
    "    def setmaxspeed(self,maxspeed):\n",
    "        self.__maxspeed=maxspeed\n",
    "        \n",
    "    def print(self):\n",
    "        print(\"color :\",self.color)\n",
    "        print(\"maxspeed :\",self.__maxspeed)\n",
    "        \n",
    "class car(vehicle):\n",
    "    def __init__(self,color,maxspeed,numgears,isconvertible):\n",
    "        super().__init__(color,maxspeed)\n",
    "        self.numgears=numgears\n",
    "        self.isconvertible=isconvertible\n",
    "        \n",
    "    def printcar(self):\n",
    "        self.print()\n",
    "        print(\"numgears :\",self.numgears)\n",
    "        print(\"isconvertible :\",self.isconvertible)"
   ]
  },
  {
   "cell_type": "code",
   "execution_count": 14,
   "id": "ec9b6085",
   "metadata": {},
   "outputs": [
    {
     "name": "stdout",
     "output_type": "stream",
     "text": [
      "color : red\n",
      "maxspeed : 15\n",
      "numgears : 3\n",
      "isconvertible : False\n"
     ]
    }
   ],
   "source": [
    "c=car(\"red\",15,3,False)\n",
    "c.printcar()"
   ]
  },
  {
   "cell_type": "code",
   "execution_count": 19,
   "id": "d0713c78",
   "metadata": {},
   "outputs": [],
   "source": [
    "class vehicle:\n",
    "    def __init__(self,color,maxspeed):\n",
    "        self.color=color\n",
    "        self.__maxspeed=maxspeed\n",
    "        \n",
    "    def getmaxspeed(self):\n",
    "        return self.__maxspeed\n",
    "    \n",
    "    def setmaxspeed(self,maxspeed):\n",
    "        self.__maxspeed=maxspeed\n",
    "        \n",
    "    def print(self):\n",
    "        print(\"color :\",self.color)\n",
    "        print(\"maxspeed :\",self.__maxspeed)\n",
    "        \n",
    "class car(vehicle):\n",
    "    def __init__(self,color,maxspeed,numgears,isconvertible):\n",
    "        super().__init__(color,maxspeed)\n",
    "        self.numgears=numgears\n",
    "        self.isconvertible=isconvertible\n",
    "        \n",
    "    def print(self):\n",
    "        #self.print()\n",
    "        print(\"numgears :\",self.numgears)\n",
    "        print(\"isconvertible :\",self.isconvertible)"
   ]
  },
  {
   "cell_type": "code",
   "execution_count": 21,
   "id": "3a58a37e",
   "metadata": {},
   "outputs": [
    {
     "name": "stdout",
     "output_type": "stream",
     "text": [
      "numgears : 3\n",
      "isconvertible : False\n"
     ]
    }
   ],
   "source": [
    "c=car(\"red\",15,3,False)\n",
    "c.print()"
   ]
  },
  {
   "cell_type": "code",
   "execution_count": 22,
   "id": "ceddaf1c",
   "metadata": {},
   "outputs": [],
   "source": [
    "class vehicle:\n",
    "    def __init__(self,color,maxspeed):\n",
    "        self.color=color\n",
    "        self.__maxspeed=maxspeed\n",
    "        \n",
    "    def getmaxspeed(self):\n",
    "        return self.__maxspeed\n",
    "    \n",
    "    def setmaxspeed(self,maxspeed):\n",
    "        self.__maxspeed=maxspeed\n",
    "        \n",
    "    def print(self):\n",
    "        print(\"color :\",self.color)\n",
    "        print(\"maxspeed :\",self.__maxspeed)\n",
    "        \n",
    "class car(vehicle):\n",
    "    def __init__(self,color,maxspeed,numgears,isconvertible):\n",
    "        super().__init__(color,maxspeed)\n",
    "        self.numgears=numgears\n",
    "        self.isconvertible=isconvertible\n",
    "        \n",
    "    #def print(self):\n",
    "        #self.print()\n",
    "        #print(\"numgears :\",self.numgears)\n",
    "        #print(\"isconvertible :\",self.isconvertible)"
   ]
  },
  {
   "cell_type": "code",
   "execution_count": 24,
   "id": "30998c70",
   "metadata": {},
   "outputs": [
    {
     "name": "stdout",
     "output_type": "stream",
     "text": [
      "color : red\n",
      "maxspeed : 15\n"
     ]
    }
   ],
   "source": [
    "c=car(\"red\",15,3,False)\n",
    "c.print()"
   ]
  },
  {
   "cell_type": "code",
   "execution_count": 25,
   "id": "65cadd10",
   "metadata": {},
   "outputs": [],
   "source": [
    "class vehicle:\n",
    "    def __init__(self,color,maxspeed):\n",
    "        self.color=color\n",
    "        self.__maxspeed=maxspeed\n",
    "        \n",
    "    def getmaxspeed(self):\n",
    "        return self.__maxspeed\n",
    "    \n",
    "    def setmaxspeed(self,maxspeed):\n",
    "        self.__maxspeed=maxspeed\n",
    "        \n",
    "    #def print(self):\n",
    "        #print(\"color :\",self.color)\n",
    "        #print(\"maxspeed :\",self.__maxspeed)\n",
    "        \n",
    "class car(vehicle):\n",
    "    def __init__(self,color,maxspeed,numgears,isconvertible):\n",
    "        super().__init__(color,maxspeed)\n",
    "        self.numgears=numgears\n",
    "        self.isconvertible=isconvertible\n",
    "        \n",
    "    #def print(self):\n",
    "        #self.print()\n",
    "        #print(\"numgears :\",self.numgears)\n",
    "        #print(\"isconvertible :\",self.isconvertible)"
   ]
  },
  {
   "cell_type": "code",
   "execution_count": 26,
   "id": "285e2c8f",
   "metadata": {},
   "outputs": [
    {
     "ename": "AttributeError",
     "evalue": "'car' object has no attribute 'print'",
     "output_type": "error",
     "traceback": [
      "\u001b[1;31m---------------------------------------------------------------------------\u001b[0m",
      "\u001b[1;31mAttributeError\u001b[0m                            Traceback (most recent call last)",
      "Cell \u001b[1;32mIn[26], line 2\u001b[0m\n\u001b[0;32m      1\u001b[0m c\u001b[38;5;241m=\u001b[39mcar(\u001b[38;5;124m\"\u001b[39m\u001b[38;5;124mred\u001b[39m\u001b[38;5;124m\"\u001b[39m,\u001b[38;5;241m15\u001b[39m,\u001b[38;5;241m3\u001b[39m,\u001b[38;5;28;01mFalse\u001b[39;00m)\n\u001b[1;32m----> 2\u001b[0m c\u001b[38;5;241m.\u001b[39mprint()\n",
      "\u001b[1;31mAttributeError\u001b[0m: 'car' object has no attribute 'print'"
     ]
    }
   ],
   "source": [
    "c=car(\"red\",15,3,False)\n",
    "c.print()"
   ]
  },
  {
   "cell_type": "code",
   "execution_count": 27,
   "id": "f4adfaf3",
   "metadata": {},
   "outputs": [],
   "source": [
    "class vehicle:\n",
    "    def __init__(self,color,maxspeed):\n",
    "        self.color=color\n",
    "        self.__maxspeed=maxspeed\n",
    "        \n",
    "    def getmaxspeed(self):\n",
    "        return self.__maxspeed\n",
    "    \n",
    "    def setmaxspeed(self,maxspeed):\n",
    "        self.__maxspeed=maxspeed\n",
    "        \n",
    "    def print(self):\n",
    "        print(\"color :\",self.color)\n",
    "        print(\"maxspeed :\",self.__maxspeed)\n",
    "        \n",
    "class car(vehicle):\n",
    "    def __init__(self,color,maxspeed,numgears,isconvertible):\n",
    "        super().__init__(color,maxspeed)\n",
    "        self.numgears=numgears\n",
    "        self.isconvertible=isconvertible\n",
    "        \n",
    "    def print(self):\n",
    "        self.print()\n",
    "        print(\"numgears :\",self.numgears)\n",
    "        print(\"isconvertible :\",self.isconvertible)"
   ]
  },
  {
   "cell_type": "code",
   "execution_count": 28,
   "id": "f71a368f",
   "metadata": {},
   "outputs": [
    {
     "ename": "RecursionError",
     "evalue": "maximum recursion depth exceeded",
     "output_type": "error",
     "traceback": [
      "\u001b[1;31m---------------------------------------------------------------------------\u001b[0m",
      "\u001b[1;31mRecursionError\u001b[0m                            Traceback (most recent call last)",
      "Cell \u001b[1;32mIn[28], line 2\u001b[0m\n\u001b[0;32m      1\u001b[0m c\u001b[38;5;241m=\u001b[39mcar(\u001b[38;5;124m\"\u001b[39m\u001b[38;5;124mred\u001b[39m\u001b[38;5;124m\"\u001b[39m,\u001b[38;5;241m15\u001b[39m,\u001b[38;5;241m3\u001b[39m,\u001b[38;5;28;01mFalse\u001b[39;00m)\n\u001b[1;32m----> 2\u001b[0m c\u001b[38;5;241m.\u001b[39mprint()\n",
      "Cell \u001b[1;32mIn[27], line 23\u001b[0m, in \u001b[0;36mcar.print\u001b[1;34m(self)\u001b[0m\n\u001b[0;32m     22\u001b[0m \u001b[38;5;28;01mdef\u001b[39;00m \u001b[38;5;21mprint\u001b[39m(\u001b[38;5;28mself\u001b[39m):\n\u001b[1;32m---> 23\u001b[0m     \u001b[38;5;28mself\u001b[39m\u001b[38;5;241m.\u001b[39mprint()\n\u001b[0;32m     24\u001b[0m     \u001b[38;5;28mprint\u001b[39m(\u001b[38;5;124m\"\u001b[39m\u001b[38;5;124mnumgears :\u001b[39m\u001b[38;5;124m\"\u001b[39m,\u001b[38;5;28mself\u001b[39m\u001b[38;5;241m.\u001b[39mnumgears)\n\u001b[0;32m     25\u001b[0m     \u001b[38;5;28mprint\u001b[39m(\u001b[38;5;124m\"\u001b[39m\u001b[38;5;124misconvertible :\u001b[39m\u001b[38;5;124m\"\u001b[39m,\u001b[38;5;28mself\u001b[39m\u001b[38;5;241m.\u001b[39misconvertible)\n",
      "Cell \u001b[1;32mIn[27], line 23\u001b[0m, in \u001b[0;36mcar.print\u001b[1;34m(self)\u001b[0m\n\u001b[0;32m     22\u001b[0m \u001b[38;5;28;01mdef\u001b[39;00m \u001b[38;5;21mprint\u001b[39m(\u001b[38;5;28mself\u001b[39m):\n\u001b[1;32m---> 23\u001b[0m     \u001b[38;5;28mself\u001b[39m\u001b[38;5;241m.\u001b[39mprint()\n\u001b[0;32m     24\u001b[0m     \u001b[38;5;28mprint\u001b[39m(\u001b[38;5;124m\"\u001b[39m\u001b[38;5;124mnumgears :\u001b[39m\u001b[38;5;124m\"\u001b[39m,\u001b[38;5;28mself\u001b[39m\u001b[38;5;241m.\u001b[39mnumgears)\n\u001b[0;32m     25\u001b[0m     \u001b[38;5;28mprint\u001b[39m(\u001b[38;5;124m\"\u001b[39m\u001b[38;5;124misconvertible :\u001b[39m\u001b[38;5;124m\"\u001b[39m,\u001b[38;5;28mself\u001b[39m\u001b[38;5;241m.\u001b[39misconvertible)\n",
      "    \u001b[1;31m[... skipping similar frames: car.print at line 23 (2971 times)]\u001b[0m\n",
      "Cell \u001b[1;32mIn[27], line 23\u001b[0m, in \u001b[0;36mcar.print\u001b[1;34m(self)\u001b[0m\n\u001b[0;32m     22\u001b[0m \u001b[38;5;28;01mdef\u001b[39;00m \u001b[38;5;21mprint\u001b[39m(\u001b[38;5;28mself\u001b[39m):\n\u001b[1;32m---> 23\u001b[0m     \u001b[38;5;28mself\u001b[39m\u001b[38;5;241m.\u001b[39mprint()\n\u001b[0;32m     24\u001b[0m     \u001b[38;5;28mprint\u001b[39m(\u001b[38;5;124m\"\u001b[39m\u001b[38;5;124mnumgears :\u001b[39m\u001b[38;5;124m\"\u001b[39m,\u001b[38;5;28mself\u001b[39m\u001b[38;5;241m.\u001b[39mnumgears)\n\u001b[0;32m     25\u001b[0m     \u001b[38;5;28mprint\u001b[39m(\u001b[38;5;124m\"\u001b[39m\u001b[38;5;124misconvertible :\u001b[39m\u001b[38;5;124m\"\u001b[39m,\u001b[38;5;28mself\u001b[39m\u001b[38;5;241m.\u001b[39misconvertible)\n",
      "\u001b[1;31mRecursionError\u001b[0m: maximum recursion depth exceeded"
     ]
    }
   ],
   "source": [
    "c=car(\"red\",15,3,False)\n",
    "c.print()"
   ]
  },
  {
   "cell_type": "code",
   "execution_count": 30,
   "id": "d5828055",
   "metadata": {},
   "outputs": [],
   "source": [
    "class vehicle:\n",
    "    def __init__(self,color,maxspeed):\n",
    "        self.color=color\n",
    "        self.__maxspeed=maxspeed\n",
    "        \n",
    "    def getmaxspeed(self):\n",
    "        return self.__maxspeed\n",
    "    \n",
    "    def setmaxspeed(self,maxspeed):\n",
    "        self.__maxspeed=maxspeed\n",
    "        \n",
    "    def print(self):\n",
    "        print(\"color :\",self.color)\n",
    "        print(\"maxspeed :\",self.__maxspeed)\n",
    "        \n",
    "class car(vehicle):\n",
    "    def __init__(self,color,maxspeed,numgears,isconvertible):\n",
    "        super().__init__(color,maxspeed)\n",
    "        self.numgears=numgears\n",
    "        self.isconvertible=isconvertible\n",
    "        \n",
    "    def print(self):\n",
    "        super().print()\n",
    "        print(\"numgears :\",self.numgears)\n",
    "        print(\"isconvertible :\",self.isconvertible)"
   ]
  },
  {
   "cell_type": "code",
   "execution_count": 31,
   "id": "fbcce716",
   "metadata": {},
   "outputs": [
    {
     "name": "stdout",
     "output_type": "stream",
     "text": [
      "color : red\n",
      "maxspeed : 15\n",
      "numgears : 3\n",
      "isconvertible : False\n"
     ]
    }
   ],
   "source": [
    "c=car(\"red\",15,3,False)\n",
    "c.print()"
   ]
  },
  {
   "cell_type": "code",
   "execution_count": 38,
   "id": "a77e2c5b",
   "metadata": {},
   "outputs": [],
   "source": [
    "class vehicle:\n",
    "    def __init__(self,color,maxspeed):\n",
    "        self.color=color\n",
    "        self._maxspeed=maxspeed\n",
    "        \n",
    "    def getmaxspeed(self):\n",
    "        return self.__maxspeed\n",
    "    \n",
    "    def setmaxspeed(self,maxspeed):\n",
    "        self.__maxspeed=maxspeed\n",
    "        \n",
    "    def print(self):\n",
    "        print(\"color :\",self.color)\n",
    "        print(\"maxspeed :\",self._maxspeed)\n",
    "        \n",
    "class car(vehicle):\n",
    "    def __init__(self,color,maxspeed,numgears,isconvertible):\n",
    "        super().__init__(color,maxspeed)\n",
    "        self.numgears=numgears\n",
    "        self.isconvertible=isconvertible\n",
    "        \n",
    "    def print(self):\n",
    "        #super().print()\n",
    "        print(\"color :\",self.color)\n",
    "        print(\"maxspeed :\",self._maxspeed)\n",
    "        print(\"numgears :\",self.numgears)\n",
    "        print(\"isconvertible :\",self.isconvertible)"
   ]
  },
  {
   "cell_type": "code",
   "execution_count": 39,
   "id": "6d9b827e",
   "metadata": {},
   "outputs": [
    {
     "name": "stdout",
     "output_type": "stream",
     "text": [
      "color : red\n",
      "maxspeed : 15\n",
      "numgears : 3\n",
      "isconvertible : False\n"
     ]
    }
   ],
   "source": [
    "c=car(\"red\",15,3,False)\n",
    "c.print()"
   ]
  },
  {
   "cell_type": "code",
   "execution_count": 40,
   "id": "4571fa79",
   "metadata": {},
   "outputs": [
    {
     "name": "stdout",
     "output_type": "stream",
     "text": [
      "color : red\n",
      "maxspeed : 18\n",
      "\n",
      "color : red\n",
      "maxspeed : 19\n"
     ]
    }
   ],
   "source": [
    "v=vehicle(\"red\",18)\n",
    "v.print()\n",
    "print()\n",
    "v._maxspeed=19\n",
    "v.print()"
   ]
  },
  {
   "cell_type": "code",
   "execution_count": 41,
   "id": "0d4d0416",
   "metadata": {},
   "outputs": [],
   "source": [
    "class circle(object):\n",
    "    def __init__(self,radius):\n",
    "        self.__radius=radius"
   ]
  },
  {
   "cell_type": "code",
   "execution_count": 42,
   "id": "5b0a803a",
   "metadata": {},
   "outputs": [
    {
     "name": "stdout",
     "output_type": "stream",
     "text": [
      "<__main__.circle object at 0x0000028F548A5C50>\n"
     ]
    }
   ],
   "source": [
    "c=circle(3)\n",
    "print(c)"
   ]
  },
  {
   "cell_type": "code",
   "execution_count": 43,
   "id": "3d7b37a1",
   "metadata": {},
   "outputs": [],
   "source": [
    "class circle(object):\n",
    "    def __init__(self,radius):\n",
    "        self.__radius=radius\n",
    "        \n",
    "    def __str__(self):\n",
    "        return \"This is a circle class which takes radius as an argument\""
   ]
  },
  {
   "cell_type": "code",
   "execution_count": 44,
   "id": "5219e5ee",
   "metadata": {},
   "outputs": [
    {
     "name": "stdout",
     "output_type": "stream",
     "text": [
      "This is a circle class which takes radius as an argument\n"
     ]
    }
   ],
   "source": [
    "c=circle(3)\n",
    "print(c)"
   ]
  },
  {
   "cell_type": "code",
   "execution_count": 49,
   "id": "b5745c88",
   "metadata": {},
   "outputs": [],
   "source": [
    "class mother:\n",
    "    def print(self):\n",
    "        print(\"print of mother called\")\n",
    "    \n",
    "class father:\n",
    "    def print(self):\n",
    "        print(\"print of fatehr called\")\n",
    "        \n",
    "class child(father,mother):\n",
    "    def __init__(self,name):\n",
    "        self.name=name\n",
    "        \n",
    "    def printchild(self):\n",
    "        print(\"name of child is :\",self.name)\n",
    "        "
   ]
  },
  {
   "cell_type": "code",
   "execution_count": 50,
   "id": "0ef1a061",
   "metadata": {},
   "outputs": [
    {
     "name": "stdout",
     "output_type": "stream",
     "text": [
      "name of child is : jatin\n"
     ]
    }
   ],
   "source": [
    "c=child(\"jatin\")\n",
    "c.printchild()"
   ]
  },
  {
   "cell_type": "code",
   "execution_count": 51,
   "id": "21ffac72",
   "metadata": {},
   "outputs": [
    {
     "name": "stdout",
     "output_type": "stream",
     "text": [
      "print of fatehr called\n"
     ]
    }
   ],
   "source": [
    "##according to the order in which it is passes\n",
    "c=child(\"jatin\")\n",
    "c.print()"
   ]
  },
  {
   "cell_type": "code",
   "execution_count": 63,
   "id": "ba2f1968",
   "metadata": {},
   "outputs": [],
   "source": [
    "class mother:\n",
    "    def __init__(self):\n",
    "        self.name=\"manju\"\n",
    "        \n",
    "    def print(self):\n",
    "        print(\"print of mother called\")\n",
    "    \n",
    "class father:\n",
    "    def __init__(self):\n",
    "        self.name=\"ajay\"\n",
    "        \n",
    "    def print(self):\n",
    "        print(\"print of fatehr called\")\n",
    "        \n",
    "class child(father,mother):\n",
    "    def __init__(self):\n",
    "        super().__init__()\n",
    "        \n",
    "    def printchild(self):\n",
    "        print(\"name of child is :\",self.name)\n",
    "        "
   ]
  },
  {
   "cell_type": "code",
   "execution_count": 64,
   "id": "6d952de3",
   "metadata": {},
   "outputs": [
    {
     "name": "stdout",
     "output_type": "stream",
     "text": [
      "name of child is : ajay\n"
     ]
    }
   ],
   "source": [
    "c=child()\n",
    "c.printchild()"
   ]
  },
  {
   "cell_type": "code",
   "execution_count": 73,
   "id": "63704371",
   "metadata": {},
   "outputs": [],
   "source": [
    "class mother:\n",
    "    def __init__(self):\n",
    "        self.name=\"manju\"\n",
    "        \n",
    "    def print(self):\n",
    "        print(\"print of mother called\")\n",
    "    \n",
    "class father:\n",
    "    def __init__(self):\n",
    "        self.name=\"ajay\"\n",
    "        \n",
    "    def print(self):\n",
    "        print(\"print of fatehr called\")\n",
    "        \n",
    "class child(mother,father):\n",
    "    def __init__(self):\n",
    "        super().__init__()\n",
    "        \n",
    "    def print(self):\n",
    "        print(\"name of child is :\",self.name)\n",
    "        "
   ]
  },
  {
   "cell_type": "code",
   "execution_count": 74,
   "id": "7f38a821",
   "metadata": {},
   "outputs": [
    {
     "name": "stdout",
     "output_type": "stream",
     "text": [
      "name of child is : manju\n"
     ]
    }
   ],
   "source": [
    "c=child()\n",
    "c.print()"
   ]
  },
  {
   "cell_type": "code",
   "execution_count": 67,
   "id": "be07558e",
   "metadata": {},
   "outputs": [
    {
     "name": "stdout",
     "output_type": "stream",
     "text": [
      "name of child is : ajay\n",
      "[<class '__main__.child'>, <class '__main__.father'>, <class '__main__.mother'>, <class 'object'>]\n"
     ]
    }
   ],
   "source": [
    "c=child()\n",
    "c.print()\n",
    "print(child.mro())"
   ]
  },
  {
   "cell_type": "code",
   "execution_count": 71,
   "id": "edecb892",
   "metadata": {},
   "outputs": [],
   "source": [
    "class mother:\n",
    "    def __init__(self):\n",
    "        self.name=\"manju\"\n",
    "        super().__init__()\n",
    "        \n",
    "    def print(self):\n",
    "        print(\"print of mother called\")\n",
    "    \n",
    "class father:\n",
    "    def __init__(self):\n",
    "        self.name=\"ajay\"\n",
    "        \n",
    "    def print(self):\n",
    "        print(\"print of fatehr called\")\n",
    "        \n",
    "class child(mother,father):\n",
    "    def __init__(self):\n",
    "        super().__init__()\n",
    "        \n",
    "    def print(self):\n",
    "        print(\"name of child is :\",self.name)\n",
    "        "
   ]
  },
  {
   "cell_type": "code",
   "execution_count": 72,
   "id": "e459f95b",
   "metadata": {},
   "outputs": [
    {
     "name": "stdout",
     "output_type": "stream",
     "text": [
      "name of child is : ajay\n",
      "[<class '__main__.child'>, <class '__main__.mother'>, <class '__main__.father'>, <class 'object'>]\n"
     ]
    }
   ],
   "source": [
    "c=child()\n",
    "c.print()\n",
    "print(child.mro())"
   ]
  },
  {
   "cell_type": "code",
   "execution_count": 75,
   "id": "50c43957",
   "metadata": {},
   "outputs": [],
   "source": [
    "class mother:\n",
    "    def __init__(self):\n",
    "        self.name=\"manju\"\n",
    "        super().__init__()\n",
    "        \n",
    "    def print(self):\n",
    "        print(\"print of mother called\")\n",
    "    \n",
    "class father:\n",
    "    def __init__(self):\n",
    "        self.name=\"ajay\"\n",
    "        super().__init__()\n",
    "        \n",
    "    def print(self):\n",
    "        print(\"print of fatehr called\")\n",
    "        \n",
    "class child(mother,father):\n",
    "    def __init__(self):\n",
    "        super().__init__()\n",
    "        \n",
    "    def print(self):\n",
    "        print(\"name of child is :\",self.name)\n",
    "        "
   ]
  },
  {
   "cell_type": "code",
   "execution_count": 77,
   "id": "35ac3c8e",
   "metadata": {},
   "outputs": [
    {
     "name": "stdout",
     "output_type": "stream",
     "text": [
      "name of child is : ajay\n",
      "[<class '__main__.child'>, <class '__main__.mother'>, <class '__main__.father'>, <class 'object'>]\n"
     ]
    }
   ],
   "source": [
    "##nothing happened\n",
    "c=child()\n",
    "c.print()\n",
    "print(child.mro())"
   ]
  },
  {
   "cell_type": "code",
   "execution_count": 86,
   "id": "bff80e87",
   "metadata": {},
   "outputs": [],
   "source": [
    "class point:\n",
    "    def __init__(self,x,y):\n",
    "        self.__x=x\n",
    "        self.__y=y\n",
    "        \n",
    "    def __str__(self):\n",
    "        return \"this point is at (\" + str(self.__x) + \",\" + str(self.__y) + \")\"\n",
    "    \n",
    "    def __add__(self,point_object):\n",
    "        return point(self.__x + point_object.__x,self.__y + point_object.__y)\n",
    "    "
   ]
  },
  {
   "cell_type": "code",
   "execution_count": 87,
   "id": "e8f4b5c2",
   "metadata": {},
   "outputs": [
    {
     "name": "stdout",
     "output_type": "stream",
     "text": [
      "this point is at (4,6)\n"
     ]
    }
   ],
   "source": [
    "p1=point(1,2)\n",
    "p2=point(3,4)\n",
    "p3=p1+p2\n",
    "print(p3)"
   ]
  },
  {
   "cell_type": "code",
   "execution_count": 88,
   "id": "2c613e1f",
   "metadata": {},
   "outputs": [],
   "source": [
    "import math\n",
    "class point:\n",
    "    def __init__(self,x,y):\n",
    "        self.__x=x\n",
    "        self.__y=y\n",
    "        \n",
    "    def __str__(self):\n",
    "        return \"this point is at (\" + str(self.__x) + \",\" + str(self.__y) + \")\"\n",
    "    \n",
    "    def __add__(self,point_object):\n",
    "        return point(self.__x + point_object.__x,self.__y + point_object.__y)\n",
    "    \n",
    "    def __lt__(self,point_object):\n",
    "        return math.sqrt(self.__x**2+self.__y**2) < math.sqrt(point_object.__x**2+point_object.__y**2)"
   ]
  },
  {
   "cell_type": "code",
   "execution_count": 90,
   "id": "1f4fb77a",
   "metadata": {},
   "outputs": [
    {
     "name": "stdout",
     "output_type": "stream",
     "text": [
      "this point is at (4,6)\n",
      "False\n"
     ]
    }
   ],
   "source": [
    "p1=point(1,2)\n",
    "p2=point(3,4)\n",
    "p3=p1+p2\n",
    "print(p3)\n",
    "print(p1>p2)"
   ]
  },
  {
   "cell_type": "code",
   "execution_count": null,
   "id": "4d681c8f",
   "metadata": {},
   "outputs": [],
   "source": []
  }
 ],
 "metadata": {
  "kernelspec": {
   "display_name": "Python 3 (ipykernel)",
   "language": "python",
   "name": "python3"
  },
  "language_info": {
   "codemirror_mode": {
    "name": "ipython",
    "version": 3
   },
   "file_extension": ".py",
   "mimetype": "text/x-python",
   "name": "python",
   "nbconvert_exporter": "python",
   "pygments_lexer": "ipython3",
   "version": "3.11.5"
  }
 },
 "nbformat": 4,
 "nbformat_minor": 5
}
