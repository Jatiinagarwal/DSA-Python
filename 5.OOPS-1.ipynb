{
 "cells": [
  {
   "cell_type": "code",
   "execution_count": 52,
   "id": "2cd8870b",
   "metadata": {},
   "outputs": [],
   "source": [
    "class student:\n",
    "    def __init__(self,name,rollnumber):\n",
    "        self.name=name\n",
    "        self.rollnumber=rollnumber\n",
    "        "
   ]
  },
  {
   "cell_type": "code",
   "execution_count": 54,
   "id": "efd81c14",
   "metadata": {},
   "outputs": [],
   "source": [
    "s1=student(\"jatin\",21)"
   ]
  },
  {
   "cell_type": "code",
   "execution_count": 55,
   "id": "41e3e03c",
   "metadata": {},
   "outputs": [
    {
     "data": {
      "text/plain": [
       "{'name': 'jatin', 'rollnumber': 21}"
      ]
     },
     "execution_count": 55,
     "metadata": {},
     "output_type": "execute_result"
    }
   ],
   "source": [
    "s1.__dict__"
   ]
  },
  {
   "cell_type": "code",
   "execution_count": 57,
   "id": "d0d5c427",
   "metadata": {},
   "outputs": [
    {
     "ename": "AttributeError",
     "evalue": "'student' object has no attribute 'printstudent'",
     "output_type": "error",
     "traceback": [
      "\u001b[1;31m---------------------------------------------------------------------------\u001b[0m",
      "\u001b[1;31mAttributeError\u001b[0m                            Traceback (most recent call last)",
      "Cell \u001b[1;32mIn[57], line 1\u001b[0m\n\u001b[1;32m----> 1\u001b[0m s1\u001b[38;5;241m.\u001b[39mprintstudent()\n",
      "\u001b[1;31mAttributeError\u001b[0m: 'student' object has no attribute 'printstudent'"
     ]
    }
   ],
   "source": [
    "s1.printstudent()"
   ]
  },
  {
   "cell_type": "code",
   "execution_count": 65,
   "id": "731cbed7",
   "metadata": {},
   "outputs": [],
   "source": [
    "class student:\n",
    "    def __init__(self,name,rollnumber):\n",
    "        self.name=name\n",
    "        self.rollnumber=rollnumber\n",
    "        \n",
    "    def printstudent():\n",
    "        print(\"hey\")"
   ]
  },
  {
   "cell_type": "code",
   "execution_count": 66,
   "id": "853c0c17",
   "metadata": {},
   "outputs": [],
   "source": [
    "s1=student(\"jatin\",21)"
   ]
  },
  {
   "cell_type": "code",
   "execution_count": 67,
   "id": "4e4effc9",
   "metadata": {},
   "outputs": [
    {
     "ename": "TypeError",
     "evalue": "student.printstudent() takes 0 positional arguments but 1 was given",
     "output_type": "error",
     "traceback": [
      "\u001b[1;31m---------------------------------------------------------------------------\u001b[0m",
      "\u001b[1;31mTypeError\u001b[0m                                 Traceback (most recent call last)",
      "Cell \u001b[1;32mIn[67], line 1\u001b[0m\n\u001b[1;32m----> 1\u001b[0m s1\u001b[38;5;241m.\u001b[39mprintstudent()\n",
      "\u001b[1;31mTypeError\u001b[0m: student.printstudent() takes 0 positional arguments but 1 was given"
     ]
    }
   ],
   "source": [
    "s1.printstudent()"
   ]
  },
  {
   "cell_type": "code",
   "execution_count": 68,
   "id": "2d6aab0a",
   "metadata": {},
   "outputs": [],
   "source": [
    "class student:\n",
    "    def __init__(self,name,rollnumber):\n",
    "        self.name=name\n",
    "        self.rollnumber=rollnumber\n",
    "        \n",
    "    def printstudent(self):\n",
    "        print(\"my name is \",self.name,\" my roll no. is \",self.rollnumber)"
   ]
  },
  {
   "cell_type": "code",
   "execution_count": 69,
   "id": "50fcc088",
   "metadata": {},
   "outputs": [],
   "source": [
    "s1=student(\"jatin\",21)"
   ]
  },
  {
   "cell_type": "code",
   "execution_count": 70,
   "id": "840a2b78",
   "metadata": {},
   "outputs": [
    {
     "name": "stdout",
     "output_type": "stream",
     "text": [
      "my name is  jatin  my roll no. is  21\n"
     ]
    }
   ],
   "source": [
    "s1.printstudent()"
   ]
  },
  {
   "cell_type": "code",
   "execution_count": 71,
   "id": "275869d0",
   "metadata": {},
   "outputs": [
    {
     "name": "stdout",
     "output_type": "stream",
     "text": [
      "my name is  jatin  my roll no. is  21\n"
     ]
    }
   ],
   "source": [
    "student.printstudent(s1)"
   ]
  },
  {
   "cell_type": "code",
   "execution_count": 81,
   "id": "43809cd5",
   "metadata": {},
   "outputs": [],
   "source": [
    "class fraction:\n",
    "    def __init__(self,num=0,den=1):\n",
    "        self.num=num\n",
    "        self.den=den"
   ]
  },
  {
   "cell_type": "code",
   "execution_count": 82,
   "id": "d770dfd2",
   "metadata": {},
   "outputs": [],
   "source": [
    "f=fraction(2,3)"
   ]
  },
  {
   "cell_type": "code",
   "execution_count": 83,
   "id": "6358c4e5",
   "metadata": {},
   "outputs": [
    {
     "data": {
      "text/plain": [
       "{'num': 2, 'den': 3}"
      ]
     },
     "execution_count": 83,
     "metadata": {},
     "output_type": "execute_result"
    }
   ],
   "source": [
    "f.__dict__"
   ]
  },
  {
   "cell_type": "code",
   "execution_count": 84,
   "id": "f14d757f",
   "metadata": {},
   "outputs": [],
   "source": [
    "f2=fraction()"
   ]
  },
  {
   "cell_type": "code",
   "execution_count": 85,
   "id": "2bbe8162",
   "metadata": {},
   "outputs": [
    {
     "data": {
      "text/plain": [
       "{'num': 0, 'den': 1}"
      ]
     },
     "execution_count": 85,
     "metadata": {},
     "output_type": "execute_result"
    }
   ],
   "source": [
    "f2.__dict__"
   ]
  },
  {
   "cell_type": "code",
   "execution_count": 87,
   "id": "5f683f16",
   "metadata": {},
   "outputs": [],
   "source": [
    "f3=fraction(3)"
   ]
  },
  {
   "cell_type": "code",
   "execution_count": 88,
   "id": "ed79fea0",
   "metadata": {},
   "outputs": [
    {
     "data": {
      "text/plain": [
       "{'num': 3, 'den': 1}"
      ]
     },
     "execution_count": 88,
     "metadata": {},
     "output_type": "execute_result"
    }
   ],
   "source": [
    "f3.__dict__"
   ]
  },
  {
   "cell_type": "code",
   "execution_count": 101,
   "id": "f8d5cd44",
   "metadata": {},
   "outputs": [],
   "source": [
    "class fraction:\n",
    "    def __init__(self,num=0,den=1):\n",
    "        \n",
    "        if den==0:\n",
    "            # Throw error\n",
    "            den=1\n",
    "        \n",
    "        self.num=num\n",
    "        self.den=den\n",
    "        \n",
    "    def print(self):\n",
    "        if self.num==0:\n",
    "            print(0)\n",
    "        elif self.den==1:\n",
    "            print(self.num)\n",
    "        else:\n",
    "            print(self.num,'/',self.den)"
   ]
  },
  {
   "cell_type": "code",
   "execution_count": 106,
   "id": "f54c8c57",
   "metadata": {},
   "outputs": [],
   "source": [
    "f=fraction(3,1)"
   ]
  },
  {
   "cell_type": "code",
   "execution_count": 107,
   "id": "20220e10",
   "metadata": {},
   "outputs": [
    {
     "name": "stdout",
     "output_type": "stream",
     "text": [
      "3\n"
     ]
    }
   ],
   "source": [
    "f.print()"
   ]
  },
  {
   "cell_type": "code",
   "execution_count": 112,
   "id": "20174dbd",
   "metadata": {},
   "outputs": [],
   "source": [
    "class fraction:\n",
    "    def __init__(self,num=0,den=1):\n",
    "        \n",
    "        if den==0:\n",
    "            # Throw error\n",
    "            den=1\n",
    "        \n",
    "        self.num=num\n",
    "        self.den=den\n",
    "        \n",
    "    def print(self):\n",
    "        if self.num==0:\n",
    "            print(0)\n",
    "        elif self.den==1:\n",
    "            print(self.num)\n",
    "        else:\n",
    "            print(self.num,'/',self.den)\n",
    "            \n",
    "    def simplify(self):\n",
    "        current=min(self.num,self.den)\n",
    "        while current>1:\n",
    "            if self.num%current==0 and self.den%current==0:\n",
    "                break\n",
    "            current-=1\n",
    "            \n",
    "        self.num=self.num//current\n",
    "        self.den=self.den//current"
   ]
  },
  {
   "cell_type": "code",
   "execution_count": 113,
   "id": "4e9fd917",
   "metadata": {},
   "outputs": [],
   "source": [
    "f=fraction(14,6)"
   ]
  },
  {
   "cell_type": "code",
   "execution_count": 114,
   "id": "3e3a9bdf",
   "metadata": {},
   "outputs": [
    {
     "name": "stdout",
     "output_type": "stream",
     "text": [
      "14 / 6\n"
     ]
    }
   ],
   "source": [
    "f.print()"
   ]
  },
  {
   "cell_type": "code",
   "execution_count": 115,
   "id": "dc650ee2",
   "metadata": {},
   "outputs": [],
   "source": [
    "f.simplify()"
   ]
  },
  {
   "cell_type": "code",
   "execution_count": 117,
   "id": "692e061d",
   "metadata": {},
   "outputs": [
    {
     "name": "stdout",
     "output_type": "stream",
     "text": [
      "7 / 3\n"
     ]
    }
   ],
   "source": [
    "f.print()"
   ]
  },
  {
   "cell_type": "code",
   "execution_count": 120,
   "id": "1d1043d5",
   "metadata": {},
   "outputs": [],
   "source": [
    "f=fraction(0,6)"
   ]
  },
  {
   "cell_type": "code",
   "execution_count": 121,
   "id": "db4eb707",
   "metadata": {},
   "outputs": [
    {
     "name": "stdout",
     "output_type": "stream",
     "text": [
      "0\n"
     ]
    }
   ],
   "source": [
    "f.print()"
   ]
  },
  {
   "cell_type": "code",
   "execution_count": 122,
   "id": "029c4dca",
   "metadata": {},
   "outputs": [
    {
     "ename": "ZeroDivisionError",
     "evalue": "integer division or modulo by zero",
     "output_type": "error",
     "traceback": [
      "\u001b[1;31m---------------------------------------------------------------------------\u001b[0m",
      "\u001b[1;31mZeroDivisionError\u001b[0m                         Traceback (most recent call last)",
      "Cell \u001b[1;32mIn[122], line 1\u001b[0m\n\u001b[1;32m----> 1\u001b[0m f\u001b[38;5;241m.\u001b[39msimplify()\n",
      "Cell \u001b[1;32mIn[112], line 26\u001b[0m, in \u001b[0;36mfraction.simplify\u001b[1;34m(self)\u001b[0m\n\u001b[0;32m     23\u001b[0m         \u001b[38;5;28;01mbreak\u001b[39;00m\n\u001b[0;32m     24\u001b[0m     current\u001b[38;5;241m-\u001b[39m\u001b[38;5;241m=\u001b[39m\u001b[38;5;241m1\u001b[39m\n\u001b[1;32m---> 26\u001b[0m \u001b[38;5;28mself\u001b[39m\u001b[38;5;241m.\u001b[39mnum\u001b[38;5;241m=\u001b[39m\u001b[38;5;28mself\u001b[39m\u001b[38;5;241m.\u001b[39mnum\u001b[38;5;241m/\u001b[39m\u001b[38;5;241m/\u001b[39mcurrent\n\u001b[0;32m     27\u001b[0m \u001b[38;5;28mself\u001b[39m\u001b[38;5;241m.\u001b[39mden\u001b[38;5;241m=\u001b[39m\u001b[38;5;28mself\u001b[39m\u001b[38;5;241m.\u001b[39mden\u001b[38;5;241m/\u001b[39m\u001b[38;5;241m/\u001b[39mcurrent\n",
      "\u001b[1;31mZeroDivisionError\u001b[0m: integer division or modulo by zero"
     ]
    }
   ],
   "source": [
    "f.simplify()"
   ]
  },
  {
   "cell_type": "code",
   "execution_count": 123,
   "id": "60bdf9e4",
   "metadata": {},
   "outputs": [],
   "source": [
    "class fraction:\n",
    "    def __init__(self,num=0,den=1):\n",
    "        \n",
    "        if den==0:\n",
    "            # Throw error\n",
    "            den=1\n",
    "        \n",
    "        self.num=num\n",
    "        self.den=den\n",
    "        \n",
    "    def print(self):\n",
    "        if self.num==0:\n",
    "            print(0)\n",
    "        elif self.den==1:\n",
    "            print(self.num)\n",
    "        else:\n",
    "            print(self.num,'/',self.den)\n",
    "            \n",
    "    def simplify(self):\n",
    "        if self.num==0:\n",
    "            self.den=1\n",
    "            return\n",
    "        current=min(self.num,self.den)\n",
    "        while current>1:\n",
    "            if self.num%current==0 and self.den%current==0:\n",
    "                break\n",
    "            current-=1\n",
    "            \n",
    "        self.num=self.num//current\n",
    "        self.den=self.den//current"
   ]
  },
  {
   "cell_type": "code",
   "execution_count": 124,
   "id": "d170c858",
   "metadata": {},
   "outputs": [],
   "source": [
    "f=fraction(0,6)"
   ]
  },
  {
   "cell_type": "code",
   "execution_count": 125,
   "id": "8fed7c0c",
   "metadata": {},
   "outputs": [
    {
     "name": "stdout",
     "output_type": "stream",
     "text": [
      "0\n"
     ]
    }
   ],
   "source": [
    "f.print()"
   ]
  },
  {
   "cell_type": "code",
   "execution_count": 126,
   "id": "90283fd0",
   "metadata": {},
   "outputs": [],
   "source": [
    "f.simplify()"
   ]
  },
  {
   "cell_type": "code",
   "execution_count": 127,
   "id": "cc435fec",
   "metadata": {},
   "outputs": [
    {
     "name": "stdout",
     "output_type": "stream",
     "text": [
      "0\n"
     ]
    }
   ],
   "source": [
    "f.print()"
   ]
  },
  {
   "cell_type": "code",
   "execution_count": 142,
   "id": "e8e327c2",
   "metadata": {},
   "outputs": [],
   "source": [
    "class fraction:\n",
    "    def __init__(self,num=0,den=1):\n",
    "        \n",
    "        if den==0:\n",
    "            # Throw error\n",
    "            den=1\n",
    "        \n",
    "        self.num=num\n",
    "        self.den=den\n",
    "        \n",
    "    def print(self):\n",
    "        if self.num==0:\n",
    "            print(0)\n",
    "        elif self.den==1:\n",
    "            print(self.num)\n",
    "        else:\n",
    "            print(self.num,'/',self.den)\n",
    "            \n",
    "    def simplify(self):\n",
    "        if self.num==0:\n",
    "            self.den=1\n",
    "            return\n",
    "        current=min(self.num,self.den)\n",
    "        while current>1:\n",
    "            if self.num%current==0 and self.den%current==0:\n",
    "                break\n",
    "            current-=1\n",
    "            \n",
    "        self.num=self.num//current\n",
    "        self.den=self.den//current\n",
    "        \n",
    "    def add(self,otherfraction):\n",
    "        newnum=otherfraction.den*self.num+otherfraction.num*self.den\n",
    "        newden=otherfraction.den*self.den\n",
    "        \n",
    "        self.num=newnum\n",
    "        self.den=newden\n",
    "        self.simplify()"
   ]
  },
  {
   "cell_type": "code",
   "execution_count": 143,
   "id": "b893b6ab",
   "metadata": {},
   "outputs": [],
   "source": [
    "f1=fraction(2,3)\n",
    "f2=fraction(1,3)"
   ]
  },
  {
   "cell_type": "code",
   "execution_count": 144,
   "id": "4afadc5d",
   "metadata": {},
   "outputs": [
    {
     "name": "stdout",
     "output_type": "stream",
     "text": [
      "1\n"
     ]
    }
   ],
   "source": [
    "f1.add(f2)\n",
    "f1.print()"
   ]
  },
  {
   "cell_type": "code",
   "execution_count": 145,
   "id": "74a02a25",
   "metadata": {},
   "outputs": [],
   "source": [
    "class fraction:\n",
    "    def __init__(self,num=0,den=1):\n",
    "        \n",
    "        if den==0:\n",
    "            # Throw error\n",
    "            den=1\n",
    "        \n",
    "        self.num=num\n",
    "        self.den=den\n",
    "        \n",
    "    def print(self):\n",
    "        if self.num==0:\n",
    "            print(0)\n",
    "        elif self.den==1:\n",
    "            print(self.num)\n",
    "        else:\n",
    "            print(self.num,'/',self.den)\n",
    "            \n",
    "    def simplify(self):\n",
    "        if self.num==0:\n",
    "            self.den=1\n",
    "            return\n",
    "        current=min(self.num,self.den)\n",
    "        while current>1:\n",
    "            if self.num%current==0 and self.den%current==0:\n",
    "                break\n",
    "            current-=1\n",
    "            \n",
    "        self.num=self.num//current\n",
    "        self.den=self.den//current\n",
    "        \n",
    "    def add(self,otherfraction):\n",
    "        newnum=otherfraction.den*self.num+otherfraction.num*self.den\n",
    "        newden=otherfraction.den*self.den\n",
    "        \n",
    "        self.num=newnum\n",
    "        self.den=newden\n",
    "        self.simplify()\n",
    "        \n",
    "    def multiply(self,otherfraction):\n",
    "        newnum=otherfraction.num*self.num\n",
    "        newden=otherfraction.den*self.den\n",
    "        \n",
    "        self.num=newnum\n",
    "        self.den=newden\n",
    "        self.simplify()"
   ]
  },
  {
   "cell_type": "code",
   "execution_count": 151,
   "id": "27ba05d9",
   "metadata": {},
   "outputs": [],
   "source": [
    "f1=fraction(4,6)\n",
    "f2=fraction(7,8)"
   ]
  },
  {
   "cell_type": "code",
   "execution_count": 152,
   "id": "95ed731b",
   "metadata": {},
   "outputs": [
    {
     "name": "stdout",
     "output_type": "stream",
     "text": [
      "7 / 12\n"
     ]
    }
   ],
   "source": [
    "f1.multiply(f2)\n",
    "f1.print()"
   ]
  },
  {
   "cell_type": "code",
   "execution_count": null,
   "id": "1e2fbfcc",
   "metadata": {},
   "outputs": [],
   "source": [
    "#complex class"
   ]
  }
 ],
 "metadata": {
  "kernelspec": {
   "display_name": "Python 3 (ipykernel)",
   "language": "python",
   "name": "python3"
  },
  "language_info": {
   "codemirror_mode": {
    "name": "ipython",
    "version": 3
   },
   "file_extension": ".py",
   "mimetype": "text/x-python",
   "name": "python",
   "nbconvert_exporter": "python",
   "pygments_lexer": "ipython3",
   "version": "3.11.5"
  }
 },
 "nbformat": 4,
 "nbformat_minor": 5
}
