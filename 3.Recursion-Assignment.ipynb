{
 "cells": [
  {
   "cell_type": "code",
   "execution_count": 115,
   "id": "d3db83c3",
   "metadata": {},
   "outputs": [
    {
     "name": "stdout",
     "output_type": "stream",
     "text": [
      "0.25\n"
     ]
    }
   ],
   "source": [
    "print(1/(2**2))"
   ]
  },
  {
   "cell_type": "code",
   "execution_count": 116,
   "id": "64aa327b",
   "metadata": {},
   "outputs": [],
   "source": [
    "def geometricsum(k):\n",
    "    if k==0:\n",
    "        return 1\n",
    "    else:\n",
    "        return geometricsum(k-1)+(1/(2**k))"
   ]
  },
  {
   "cell_type": "code",
   "execution_count": 121,
   "id": "13da2d99",
   "metadata": {},
   "outputs": [
    {
     "data": {
      "text/plain": [
       "1.875"
      ]
     },
     "execution_count": 121,
     "metadata": {},
     "output_type": "execute_result"
    }
   ],
   "source": [
    "geometricsum(3)"
   ]
  },
  {
   "cell_type": "code",
   "execution_count": 122,
   "id": "4cf4f2b6",
   "metadata": {},
   "outputs": [],
   "source": [
    "def checkpalindrome(s):\n",
    "    if len(s)==0 or len(s)==1:\n",
    "        return True\n",
    "    if s[:]==s[::-1]:\n",
    "        return True\n",
    "    else:\n",
    "        return False"
   ]
  },
  {
   "cell_type": "code",
   "execution_count": 124,
   "id": "1aa2da03",
   "metadata": {},
   "outputs": [
    {
     "data": {
      "text/plain": [
       "False"
      ]
     },
     "execution_count": 124,
     "metadata": {},
     "output_type": "execute_result"
    }
   ],
   "source": [
    "checkpalindrome(\"abcbd\")"
   ]
  },
  {
   "cell_type": "code",
   "execution_count": 155,
   "id": "437bc1bd",
   "metadata": {},
   "outputs": [],
   "source": [
    "def checkpalin(s):\n",
    "    if len(s)<=1:\n",
    "        return True\n",
    "    if s[0]==s[-1]:\n",
    "        return checkpalin(s[1:-1])\n",
    "    else:\n",
    "        return False"
   ]
  },
  {
   "cell_type": "code",
   "execution_count": 156,
   "id": "2336d144",
   "metadata": {},
   "outputs": [
    {
     "data": {
      "text/plain": [
       "True"
      ]
     },
     "execution_count": 156,
     "metadata": {},
     "output_type": "execute_result"
    }
   ],
   "source": [
    "s=\"abcba\"\n",
    "checkpalin(s)"
   ]
  },
  {
   "cell_type": "code",
   "execution_count": 175,
   "id": "b78c9149",
   "metadata": {},
   "outputs": [],
   "source": [
    "def sumofdigit(n):\n",
    "    if len(n)==1:\n",
    "        return int(n)\n",
    "    else:\n",
    "        return int(n[0])+int(sumofdigit(n[1:]))"
   ]
  },
  {
   "cell_type": "code",
   "execution_count": 180,
   "id": "4c0b2dd9",
   "metadata": {},
   "outputs": [],
   "source": [
    "def sum_of_digits_recursive(n):\n",
    "    if n == 0:\n",
    "        return 0\n",
    "    else:\n",
    "        return n % 10 + sum_of_digits_recursive(n // 10)"
   ]
  },
  {
   "cell_type": "code",
   "execution_count": 181,
   "id": "c168be89",
   "metadata": {},
   "outputs": [
    {
     "data": {
      "text/plain": [
       "7"
      ]
     },
     "execution_count": 181,
     "metadata": {},
     "output_type": "execute_result"
    }
   ],
   "source": [
    "sum_of_digits_recursive(124)"
   ]
  },
  {
   "cell_type": "code",
   "execution_count": 177,
   "id": "5c6c159c",
   "metadata": {},
   "outputs": [
    {
     "data": {
      "text/plain": [
       "3"
      ]
     },
     "execution_count": 177,
     "metadata": {},
     "output_type": "execute_result"
    }
   ],
   "source": [
    "sumofdigit('12')"
   ]
  },
  {
   "cell_type": "code",
   "execution_count": 178,
   "id": "cea6aca1",
   "metadata": {},
   "outputs": [],
   "source": [
    "def multiplication(m,n):\n",
    "    if n==0:\n",
    "        return 0\n",
    "    return m+multiplication(m,n-1)"
   ]
  },
  {
   "cell_type": "code",
   "execution_count": 179,
   "id": "e2651964",
   "metadata": {},
   "outputs": [
    {
     "data": {
      "text/plain": [
       "15"
      ]
     },
     "execution_count": 179,
     "metadata": {},
     "output_type": "execute_result"
    }
   ],
   "source": [
    "multiplication(3,5)"
   ]
  },
  {
   "cell_type": "code",
   "execution_count": 199,
   "id": "71f4dcbf",
   "metadata": {},
   "outputs": [],
   "source": [
    "def countzero(n):\n",
    "    if n==0:\n",
    "        return 0\n",
    "    ld=n%10\n",
    "    sn=n//10\n",
    "    if ld==0:\n",
    "        return 1+countzero(sn)\n",
    "    else:\n",
    "        return countzero(sn)"
   ]
  },
  {
   "cell_type": "code",
   "execution_count": 203,
   "id": "5ff73a8c",
   "metadata": {},
   "outputs": [
    {
     "data": {
      "text/plain": [
       "5"
      ]
     },
     "execution_count": 203,
     "metadata": {},
     "output_type": "execute_result"
    }
   ],
   "source": [
    "countzero(1010000)"
   ]
  },
  {
   "cell_type": "code",
   "execution_count": 208,
   "id": "ff36acd5",
   "metadata": {},
   "outputs": [],
   "source": [
    "def strtoint(s):\n",
    "    if len(s)==0:\n",
    "        return 0\n",
    "    return int(s)"
   ]
  },
  {
   "cell_type": "code",
   "execution_count": 209,
   "id": "3725b404",
   "metadata": {},
   "outputs": [
    {
     "data": {
      "text/plain": [
       "1234"
      ]
     },
     "execution_count": 209,
     "metadata": {},
     "output_type": "execute_result"
    }
   ],
   "source": [
    "strtoint('1234')"
   ]
  },
  {
   "cell_type": "code",
   "execution_count": 224,
   "id": "c6096a82",
   "metadata": {},
   "outputs": [],
   "source": [
    "def pairstar(s):\n",
    "    if len(s)==1:\n",
    "        return s\n",
    "    return s[0]+'*'+pairstar(s[1:])"
   ]
  },
  {
   "cell_type": "code",
   "execution_count": 225,
   "id": "9e55a2c6",
   "metadata": {},
   "outputs": [
    {
     "data": {
      "text/plain": [
       "'a*b*c*d'"
      ]
     },
     "execution_count": 225,
     "metadata": {},
     "output_type": "execute_result"
    }
   ],
   "source": [
    "pairstar('abcd')"
   ]
  },
  {
   "cell_type": "code",
   "execution_count": 230,
   "id": "71c78ecd",
   "metadata": {},
   "outputs": [],
   "source": [
    "def count_ways(n):\n",
    "    if n == 0:\n",
    "        return 1\n",
    "    elif n < 0:\n",
    "        return 0\n",
    "    else:\n",
    "        return count_ways(n - 1) + count_ways(n - 2) + count_ways(n - 3)"
   ]
  },
  {
   "cell_type": "code",
   "execution_count": 232,
   "id": "ce5e08e1",
   "metadata": {},
   "outputs": [
    {
     "data": {
      "text/plain": [
       "13"
      ]
     },
     "execution_count": 232,
     "metadata": {},
     "output_type": "execute_result"
    }
   ],
   "source": [
    "count_ways(5)"
   ]
  }
 ],
 "metadata": {
  "kernelspec": {
   "display_name": "Python 3 (ipykernel)",
   "language": "python",
   "name": "python3"
  },
  "language_info": {
   "codemirror_mode": {
    "name": "ipython",
    "version": 3
   },
   "file_extension": ".py",
   "mimetype": "text/x-python",
   "name": "python",
   "nbconvert_exporter": "python",
   "pygments_lexer": "ipython3",
   "version": "3.11.5"
  }
 },
 "nbformat": 4,
 "nbformat_minor": 5
}
