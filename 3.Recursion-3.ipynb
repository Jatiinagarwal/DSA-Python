{
 "cells": [
  {
   "cell_type": "code",
   "execution_count": 233,
   "id": "ec687b28",
   "metadata": {},
   "outputs": [],
   "source": [
    "def subs(s):\n",
    "    if len(s)==0:\n",
    "        output=[]\n",
    "        output.append(\"\")\n",
    "        return output\n",
    "    smallerstring=s[1:]\n",
    "    smalleroutput=subs(smallerstring)\n",
    "    output=[]\n",
    "    for sub in smalleroutput:\n",
    "        output.append(sub)\n",
    "    for sub in smalleroutput:\n",
    "        output.append(s[0]+sub)\n",
    "    return output"
   ]
  },
  {
   "cell_type": "code",
   "execution_count": 235,
   "id": "534a75c8",
   "metadata": {},
   "outputs": [
    {
     "data": {
      "text/plain": [
       "['',\n",
       " 'd',\n",
       " 'c',\n",
       " 'cd',\n",
       " 'b',\n",
       " 'bd',\n",
       " 'bc',\n",
       " 'bcd',\n",
       " 'a',\n",
       " 'ad',\n",
       " 'ac',\n",
       " 'acd',\n",
       " 'ab',\n",
       " 'abd',\n",
       " 'abc',\n",
       " 'abcd']"
      ]
     },
     "execution_count": 235,
     "metadata": {},
     "output_type": "execute_result"
    }
   ],
   "source": [
    "subs('abcd')"
   ]
  },
  {
   "cell_type": "code",
   "execution_count": 242,
   "id": "98607c45",
   "metadata": {},
   "outputs": [
    {
     "name": "stdout",
     "output_type": "stream",
     "text": [
      "[2, 8]\n",
      "[4, 6]\n",
      "[10]\n"
     ]
    }
   ],
   "source": [
    "def subset_sum(arr, k, subset=[], idx=0):\n",
    "    if k == 0:\n",
    "        print(subset)\n",
    "        return\n",
    "    if idx == len(arr):\n",
    "        return\n",
    "    \n",
    "    # Include current element in subset\n",
    "    subset_sum(arr, k - arr[idx], subset + [arr[idx]], idx + 1)\n",
    "    \n",
    "    # Exclude current element from subset\n",
    "    subset_sum(arr, k, subset, idx + 1)\n",
    "\n",
    "# Example usage:\n",
    "arr = [2, 4, 6, 8, 10]\n",
    "k = 10\n",
    "subset_sum(arr, k)"
   ]
  },
  {
   "cell_type": "code",
   "execution_count": 20,
   "id": "349b198a",
   "metadata": {},
   "outputs": [
    {
     "name": "stdout",
     "output_type": "stream",
     "text": [
      "Subsets of [1, 2, 3] are:\n",
      "[1, 2, 3]\n",
      "[1, 2]\n",
      "[1, 3]\n",
      "[1]\n",
      "[2, 3]\n",
      "[2]\n",
      "[3]\n",
      "[]\n"
     ]
    }
   ],
   "source": [
    "def generate_subsets(nums, index=0, current=[]):\n",
    "    if index == len(nums):\n",
    "        # If we reach the end of the array, print the current subset\n",
    "        print(current)\n",
    "    else:\n",
    "        # Include the current element in the subset\n",
    "        generate_subsets(nums, index + 1, current + [nums[index]])\n",
    "        \n",
    "        # Exclude the current element from the subset\n",
    "        generate_subsets(nums, index + 1, current)\n",
    "\n",
    "# Test the function\n",
    "nums = [1, 2, 3]\n",
    "print(\"Subsets of\", nums, \"are:\")\n",
    "generate_subsets(nums)"
   ]
  },
  {
   "cell_type": "code",
   "execution_count": 19,
   "id": "17477be5",
   "metadata": {},
   "outputs": [
    {
     "name": "stdout",
     "output_type": "stream",
     "text": [
      "Permutations of 'abc' are:\n",
      "abc\n",
      "acb\n",
      "bac\n",
      "bca\n",
      "cab\n",
      "cba\n"
     ]
    }
   ],
   "source": [
    "def permute_string(string, current=\"\"):\n",
    "    if len(string) == 0:\n",
    "        # If the input string is empty, print the current permutation\n",
    "        print(current)\n",
    "    else:\n",
    "        for i in range(len(string)):\n",
    "            # Choose the character at index i as the next character\n",
    "            next_char = string[i]\n",
    "            \n",
    "            # Generate the remaining characters for permutation\n",
    "            remaining_chars = string[:i] + string[i+1:]\n",
    "            \n",
    "            # Recursively generate permutations with the next character added to current\n",
    "            permute_string(remaining_chars, current + next_char)\n",
    "\n",
    "# Test the function\n",
    "input_string = \"abc\"\n",
    "print(\"Permutations of '{}' are:\".format(input_string))\n",
    "permute_string(input_string)"
   ]
  },
  {
   "cell_type": "code",
   "execution_count": 21,
   "id": "ec0c240d",
   "metadata": {},
   "outputs": [
    {
     "name": "stdout",
     "output_type": "stream",
     "text": [
      "[[1, 2, 3], [1, 2], [1, 3], [1], [2, 3], [2], [3], []]\n"
     ]
    }
   ],
   "source": [
    "def subsets(arr):\n",
    "    def generate_subsets(index, current_subset):\n",
    "        if index == len(arr):\n",
    "            result.append(current_subset)\n",
    "            return\n",
    "        # Include current element in the subset\n",
    "        generate_subsets(index + 1, current_subset + [arr[index]])\n",
    "        # Exclude current element from the subset\n",
    "        generate_subsets(index + 1, current_subset)\n",
    "\n",
    "    result = []\n",
    "    generate_subsets(0, [])\n",
    "    return result\n",
    "\n",
    "# Example usage:\n",
    "arr = [1, 2, 3]\n",
    "print(subsets(arr))"
   ]
  },
  {
   "cell_type": "code",
   "execution_count": 22,
   "id": "0e73a5be",
   "metadata": {},
   "outputs": [
    {
     "name": "stdout",
     "output_type": "stream",
     "text": [
      "[2, 8]\n",
      "[4, 6]\n",
      "[10]\n"
     ]
    }
   ],
   "source": [
    "def subset_sum(arr, k, subset=[], idx=0):\n",
    "    if k == 0:\n",
    "        print(subset)\n",
    "        return\n",
    "    if idx == len(arr):\n",
    "        return\n",
    "    \n",
    "    # Include current element in subset\n",
    "    subset_sum(arr, k - arr[idx], subset + [arr[idx]], idx + 1)\n",
    "    \n",
    "    # Exclude current element from subset\n",
    "    subset_sum(arr, k, subset, idx + 1)\n",
    "\n",
    "# Example usage:\n",
    "arr = [2, 4, 6, 8, 10]\n",
    "k = 10\n",
    "subset_sum(arr, k)"
   ]
  },
  {
   "cell_type": "code",
   "execution_count": 24,
   "id": "8bab2979",
   "metadata": {},
   "outputs": [],
   "source": [
    "def getstring(d):\n",
    "    if d==2:\n",
    "        return \"abc\"\n",
    "    if d==3:\n",
    "        return \"def\"\n",
    "    if d==4:\n",
    "        return \"ghi\"\n",
    "    if d==5:\n",
    "        return \"jkl\"\n",
    "    if d==6:\n",
    "        return \"mno\"\n",
    "    if d==7:\n",
    "        return \"pqrs\"\n",
    "    if d==8:\n",
    "        return \"tuv\"\n",
    "    if d==9:\n",
    "        return \"wxyz\"\n",
    "    return \" \""
   ]
  },
  {
   "cell_type": "code",
   "execution_count": 27,
   "id": "597e4c61",
   "metadata": {},
   "outputs": [],
   "source": [
    "def keypad(n):\n",
    "    if n==0:\n",
    "        output=[]\n",
    "        output.append(\"\")\n",
    "        return output\n",
    "    smallernumber=n//10\n",
    "    lastdigit=n%10\n",
    "    \n",
    "    smalleroutput=keypad(smallernumber)\n",
    "    optionsforlastdigit=getstring(lastdigit)\n",
    "    output=[]\n",
    "    \n",
    "    for s in smalleroutput:\n",
    "        for c in optionsforlastdigit:\n",
    "            option=s+c\n",
    "            output.append(option)\n",
    "    return output"
   ]
  },
  {
   "cell_type": "code",
   "execution_count": 34,
   "id": "1deec425",
   "metadata": {},
   "outputs": [
    {
     "name": "stdout",
     "output_type": "stream",
     "text": [
      "['adp', 'adq', 'adr', 'ads', 'aep', 'aeq', 'aer', 'aes', 'afp', 'afq', 'afr', 'afs', 'bdp', 'bdq', 'bdr', 'bds', 'bep', 'beq', 'ber', 'bes', 'bfp', 'bfq', 'bfr', 'bfs', 'cdp', 'cdq', 'cdr', 'cds', 'cep', 'ceq', 'cer', 'ces', 'cfp', 'cfq', 'cfr', 'cfs']\n",
      "36\n"
     ]
    }
   ],
   "source": [
    "print(keypad(237))\n",
    "print(len(keypad(237)))"
   ]
  },
  {
   "cell_type": "code",
   "execution_count": 36,
   "id": "729fb235",
   "metadata": {},
   "outputs": [],
   "source": [
    "def fact(n):\n",
    "    if n==0:\n",
    "        return 1\n",
    "    smalloutput=fact(n-1)\n",
    "    output=n*smalloutput\n",
    "    print(output)\n",
    "    return output"
   ]
  },
  {
   "cell_type": "code",
   "execution_count": 37,
   "id": "03f7c976",
   "metadata": {},
   "outputs": [
    {
     "name": "stdout",
     "output_type": "stream",
     "text": [
      "1\n",
      "2\n",
      "6\n",
      "24\n",
      "120\n"
     ]
    },
    {
     "data": {
      "text/plain": [
       "120"
      ]
     },
     "execution_count": 37,
     "metadata": {},
     "output_type": "execute_result"
    }
   ],
   "source": [
    "fact(5)"
   ]
  },
  {
   "cell_type": "code",
   "execution_count": 44,
   "id": "b34c0528",
   "metadata": {},
   "outputs": [],
   "source": [
    "def facthelper(n):\n",
    "    if n==0:\n",
    "        return 1\n",
    "    smalloutput=facthelper(n-1)\n",
    "    output=n*smalloutput\n",
    "    return output"
   ]
  },
  {
   "cell_type": "code",
   "execution_count": 45,
   "id": "c141ff89",
   "metadata": {},
   "outputs": [],
   "source": [
    "def facto(n):\n",
    "    output=facthelper(n)\n",
    "    print(output)"
   ]
  },
  {
   "cell_type": "code",
   "execution_count": 46,
   "id": "f11cf774",
   "metadata": {},
   "outputs": [
    {
     "name": "stdout",
     "output_type": "stream",
     "text": [
      "120\n"
     ]
    }
   ],
   "source": [
    "facto(5)"
   ]
  },
  {
   "cell_type": "code",
   "execution_count": 48,
   "id": "8b36b3f1",
   "metadata": {},
   "outputs": [],
   "source": [
    "def printfact(n,ans=1):\n",
    "    if n==0:\n",
    "        print(ans)\n",
    "        return\n",
    "    ans=ans*n\n",
    "    printfact(n-1,ans)"
   ]
  },
  {
   "cell_type": "code",
   "execution_count": 49,
   "id": "9178016a",
   "metadata": {},
   "outputs": [
    {
     "name": "stdout",
     "output_type": "stream",
     "text": [
      "120\n"
     ]
    }
   ],
   "source": [
    "printfact(5)"
   ]
  },
  {
   "cell_type": "code",
   "execution_count": 52,
   "id": "fce7023c",
   "metadata": {},
   "outputs": [],
   "source": [
    "def minlist(l):\n",
    "    if len(l)==1:\n",
    "        return l[0]\n",
    "    minsmallarray=minlist(l[1:])\n",
    "    overallmin=min(minsmallarray,l[0])\n",
    "    return overallmin"
   ]
  },
  {
   "cell_type": "code",
   "execution_count": 54,
   "id": "6892a79f",
   "metadata": {},
   "outputs": [
    {
     "data": {
      "text/plain": [
       "-1"
      ]
     },
     "execution_count": 54,
     "metadata": {},
     "output_type": "execute_result"
    }
   ],
   "source": [
    "minlist([1,2,3,-1,4,5,0])"
   ]
  },
  {
   "cell_type": "code",
   "execution_count": 55,
   "id": "2b66fef8",
   "metadata": {},
   "outputs": [],
   "source": [
    "def printmin(l,minsofar=100000):\n",
    "    if len(l)==0:\n",
    "        print(minsofar)\n",
    "        return\n",
    "    newmin=min(minsofar,l[0])\n",
    "    printmin(l[1:],newmin)"
   ]
  },
  {
   "cell_type": "code",
   "execution_count": 57,
   "id": "c38408c5",
   "metadata": {},
   "outputs": [
    {
     "name": "stdout",
     "output_type": "stream",
     "text": [
      "-10\n"
     ]
    }
   ],
   "source": [
    "printmin([1,2,3,4,5,-10])"
   ]
  },
  {
   "cell_type": "code",
   "execution_count": 58,
   "id": "cbabef91",
   "metadata": {},
   "outputs": [],
   "source": [
    "def printsubs(s,o):\n",
    "    if len(s)==0:\n",
    "        print(o)\n",
    "        return\n",
    "    #don't include oth cvhar\n",
    "    printsubs(s[1:],o)\n",
    "    \n",
    "    #include oth char\n",
    "    newoutput=o+s[0]\n",
    "    printsubs(s[1:],newoutput)"
   ]
  },
  {
   "cell_type": "code",
   "execution_count": 59,
   "id": "b9a3d461",
   "metadata": {},
   "outputs": [
    {
     "name": "stdout",
     "output_type": "stream",
     "text": [
      "\n",
      "c\n",
      "b\n",
      "bc\n",
      "a\n",
      "ac\n",
      "ab\n",
      "abc\n"
     ]
    }
   ],
   "source": [
    "printsubs('abc',\"\")"
   ]
  },
  {
   "cell_type": "code",
   "execution_count": 60,
   "id": "fb9c749d",
   "metadata": {},
   "outputs": [],
   "source": [
    "def getstring(d):\n",
    "    if d==2:\n",
    "        return \"abc\"\n",
    "    if d==3:\n",
    "        return \"def\"\n",
    "    if d==4:\n",
    "        return \"ghi\"\n",
    "    if d==5:\n",
    "        return \"jkl\"\n",
    "    if d==6:\n",
    "        return \"mno\"\n",
    "    if d==7:\n",
    "        return \"pqrs\"\n",
    "    if d==8:\n",
    "        return \"tuv\"\n",
    "    if d==9:\n",
    "        return \"wxyz\"\n",
    "    return \" \""
   ]
  },
  {
   "cell_type": "code",
   "execution_count": 62,
   "id": "5f0c8a3b",
   "metadata": {},
   "outputs": [],
   "source": [
    "def printkeypad(n,outputsofar):\n",
    "    if n==0:\n",
    "        print(outputsofar)\n",
    "        return\n",
    "    smallnumber=n//10\n",
    "    lastdigit=n%10\n",
    "    \n",
    "    optionsforlastdigit=getstring(lastdigit)\n",
    "    for c in optionsforlastdigit:\n",
    "        newoutput=c+outputsofar\n",
    "        printkeypad(smallnumber,newoutput)"
   ]
  },
  {
   "cell_type": "code",
   "execution_count": 64,
   "id": "72bee6bd",
   "metadata": {},
   "outputs": [
    {
     "name": "stdout",
     "output_type": "stream",
     "text": [
      "ad\n",
      "bd\n",
      "cd\n",
      "ae\n",
      "be\n",
      "ce\n",
      "af\n",
      "bf\n",
      "cf\n"
     ]
    }
   ],
   "source": [
    "printkeypad(23,\"\")"
   ]
  },
  {
   "cell_type": "code",
   "execution_count": null,
   "id": "66e4c258",
   "metadata": {},
   "outputs": [],
   "source": []
  }
 ],
 "metadata": {
  "kernelspec": {
   "display_name": "Python 3 (ipykernel)",
   "language": "python",
   "name": "python3"
  },
  "language_info": {
   "codemirror_mode": {
    "name": "ipython",
    "version": 3
   },
   "file_extension": ".py",
   "mimetype": "text/x-python",
   "name": "python",
   "nbconvert_exporter": "python",
   "pygments_lexer": "ipython3",
   "version": "3.11.5"
  }
 },
 "nbformat": 4,
 "nbformat_minor": 5
}
