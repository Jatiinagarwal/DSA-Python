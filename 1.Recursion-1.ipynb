{
 "cells": [
  {
   "cell_type": "code",
   "execution_count": 51,
   "id": "11ece551",
   "metadata": {},
   "outputs": [],
   "source": [
    "def fact(n):\n",
    "    if n==0:\n",
    "        return 1\n",
    "    return n*fact(n-1)"
   ]
  },
  {
   "cell_type": "code",
   "execution_count": 54,
   "id": "b3371cff",
   "metadata": {},
   "outputs": [
    {
     "name": "stdout",
     "output_type": "stream",
     "text": [
      "20\n"
     ]
    },
    {
     "data": {
      "text/plain": [
       "2432902008176640000"
      ]
     },
     "execution_count": 54,
     "metadata": {},
     "output_type": "execute_result"
    }
   ],
   "source": [
    "n=int(input())\n",
    "fact(n)"
   ]
  },
  {
   "cell_type": "code",
   "execution_count": 55,
   "id": "6a3badbf",
   "metadata": {},
   "outputs": [],
   "source": [
    "import sys\n",
    "sys.setrecursionlimit(3000)"
   ]
  },
  {
   "cell_type": "code",
   "execution_count": 47,
   "id": "0f90dad4",
   "metadata": {},
   "outputs": [],
   "source": [
    "def sum_n(n):\n",
    "    if n==0:\n",
    "        return 0\n",
    "    return n+sum_n(n-1)"
   ]
  },
  {
   "cell_type": "code",
   "execution_count": 11,
   "id": "b230c47f",
   "metadata": {},
   "outputs": [
    {
     "name": "stdout",
     "output_type": "stream",
     "text": [
      "5\n",
      "120\n",
      "15\n"
     ]
    }
   ],
   "source": [
    "n=int(input())\n",
    "print(fact(n))\n",
    "print(sum_n(n))"
   ]
  },
  {
   "cell_type": "code",
   "execution_count": 13,
   "id": "6a2a7076",
   "metadata": {},
   "outputs": [],
   "source": [
    "def power(x,n):\n",
    "    ans=1\n",
    "    while n>0:\n",
    "        ans=ans*x\n",
    "        n=n-1\n",
    "    return ans"
   ]
  },
  {
   "cell_type": "code",
   "execution_count": 16,
   "id": "a565e133",
   "metadata": {},
   "outputs": [
    {
     "name": "stdout",
     "output_type": "stream",
     "text": [
      "4\n",
      "3\n"
     ]
    },
    {
     "data": {
      "text/plain": [
       "64"
      ]
     },
     "execution_count": 16,
     "metadata": {},
     "output_type": "execute_result"
    }
   ],
   "source": [
    "x=int(input())\n",
    "n=int(input())\n",
    "power(x,n)"
   ]
  },
  {
   "cell_type": "code",
   "execution_count": 17,
   "id": "ffd78538",
   "metadata": {},
   "outputs": [],
   "source": [
    "def print_1_to_n(n):\n",
    "    if n==0:\n",
    "        return\n",
    "    print_1_to_n(n-1)\n",
    "    print(n)\n",
    "    return"
   ]
  },
  {
   "cell_type": "code",
   "execution_count": 18,
   "id": "29c2ffd5",
   "metadata": {},
   "outputs": [
    {
     "name": "stdout",
     "output_type": "stream",
     "text": [
      "5\n",
      "1\n",
      "2\n",
      "3\n",
      "4\n",
      "5\n"
     ]
    }
   ],
   "source": [
    "n=int(input())\n",
    "print_1_to_n(n)"
   ]
  },
  {
   "cell_type": "code",
   "execution_count": 19,
   "id": "48b0cc7a",
   "metadata": {},
   "outputs": [],
   "source": [
    "def print_n_to_1(n):\n",
    "    if n==0:\n",
    "        return\n",
    "    print(n)\n",
    "    print_n_to_1(n-1)\n",
    "    return"
   ]
  },
  {
   "cell_type": "code",
   "execution_count": 20,
   "id": "92235adb",
   "metadata": {},
   "outputs": [
    {
     "name": "stdout",
     "output_type": "stream",
     "text": [
      "5\n",
      "5\n",
      "4\n",
      "3\n",
      "2\n",
      "1\n"
     ]
    }
   ],
   "source": [
    "n=int(input())\n",
    "print_n_to_1(n)"
   ]
  },
  {
   "cell_type": "code",
   "execution_count": 21,
   "id": "3bdba254",
   "metadata": {},
   "outputs": [
    {
     "name": "stdout",
     "output_type": "stream",
     "text": [
      "5 3 1 "
     ]
    }
   ],
   "source": [
    "def printnumbers(n):\n",
    "    if n<0:\n",
    "        return\n",
    "    print(n,end=\" \")\n",
    "    printnumbers(n-2)\n",
    "num=5\n",
    "printnumbers(num)"
   ]
  },
  {
   "cell_type": "code",
   "execution_count": 37,
   "id": "e3e68d83",
   "metadata": {},
   "outputs": [],
   "source": [
    "def fib(n):\n",
    "    if n==1 or n==2:\n",
    "        return 1\n",
    "    return fib(n-1) + fib(n-2)"
   ]
  },
  {
   "cell_type": "code",
   "execution_count": 39,
   "id": "faa62396",
   "metadata": {},
   "outputs": [
    {
     "name": "stdout",
     "output_type": "stream",
     "text": [
      "4\n"
     ]
    },
    {
     "data": {
      "text/plain": [
       "3"
      ]
     },
     "execution_count": 39,
     "metadata": {},
     "output_type": "execute_result"
    }
   ],
   "source": [
    "n=int(input())\n",
    "fib(n)"
   ]
  },
  {
   "cell_type": "code",
   "execution_count": 59,
   "id": "005b9c54",
   "metadata": {},
   "outputs": [],
   "source": [
    "def issorted(a):\n",
    "    l=len(a)\n",
    "    if l==0 or l==1:\n",
    "        return True\n",
    "    if a[0]>a[1]:\n",
    "        return False\n",
    "    smallerlist=a[1:]\n",
    "    issmallerlistsorted=issorted(smallerlist)\n",
    "    return issmallerlistsorted\n",
    "    #if issmallerlistsorted:\n",
    "     #   return True\n",
    "    #else:\n",
    "     #   return False"
   ]
  },
  {
   "cell_type": "code",
   "execution_count": 60,
   "id": "98df96cf",
   "metadata": {},
   "outputs": [
    {
     "data": {
      "text/plain": [
       "False"
      ]
     },
     "execution_count": 60,
     "metadata": {},
     "output_type": "execute_result"
    }
   ],
   "source": [
    "a=[1,2,3,40,5,6]\n",
    "issorted(a)"
   ]
  },
  {
   "cell_type": "code",
   "execution_count": 69,
   "id": "0e3d9a3f",
   "metadata": {},
   "outputs": [],
   "source": [
    "def issortedbetter(a,si):\n",
    "    l=len(a)\n",
    "    if si==l-1 or si==1:\n",
    "        return True\n",
    "    if a[si]>a[si+1]:\n",
    "        return False\n",
    "    issmallerpartsorted=issortedbetter(a,si+1)\n",
    "    return issmallerpartsorted"
   ]
  },
  {
   "cell_type": "code",
   "execution_count": 70,
   "id": "1a462e15",
   "metadata": {},
   "outputs": [
    {
     "data": {
      "text/plain": [
       "True"
      ]
     },
     "execution_count": 70,
     "metadata": {},
     "output_type": "execute_result"
    }
   ],
   "source": [
    "a=[1,2,3,4,5,6]\n",
    "issortedbetter(a,0)"
   ]
  },
  {
   "cell_type": "code",
   "execution_count": 71,
   "id": "afc5a92d",
   "metadata": {},
   "outputs": [],
   "source": [
    "def sumarray(a):\n",
    "    l=len(a)\n",
    "    if l==0:\n",
    "        return false\n",
    "    if l==1:\n",
    "        return a[0]\n",
    "    return a[0]+sumarray(a[1:])"
   ]
  },
  {
   "cell_type": "code",
   "execution_count": 73,
   "id": "5bb336c0",
   "metadata": {},
   "outputs": [
    {
     "data": {
      "text/plain": [
       "46"
      ]
     },
     "execution_count": 73,
     "metadata": {},
     "output_type": "execute_result"
    }
   ],
   "source": [
    "a=[1,2,3,40]\n",
    "sumarray(a)"
   ]
  },
  {
   "cell_type": "code",
   "execution_count": 75,
   "id": "76662ae1",
   "metadata": {},
   "outputs": [],
   "source": [
    "def numinarray(a,x):\n",
    "    l=len(a)\n",
    "    if l==0:\n",
    "        return False\n",
    "    if x==a[0]:\n",
    "        return True\n",
    "    return numinarray(a[1:],x)"
   ]
  },
  {
   "cell_type": "code",
   "execution_count": 77,
   "id": "74c6c35c",
   "metadata": {},
   "outputs": [
    {
     "data": {
      "text/plain": [
       "False"
      ]
     },
     "execution_count": 77,
     "metadata": {},
     "output_type": "execute_result"
    }
   ],
   "source": [
    "a=[1,2,3,4,5]\n",
    "numinarray(a,7)"
   ]
  },
  {
   "cell_type": "code",
   "execution_count": 1,
   "id": "9f2ca78d",
   "metadata": {},
   "outputs": [],
   "source": [
    "def firstindex(a,x):\n",
    "    l=len(a)\n",
    "    if l==0:\n",
    "        return -1\n",
    "    if a[0]==x:\n",
    "        return 0\n",
    "    smallerlist=a[1:]\n",
    "    smallerlistoutput=firstindex(smallerlist,x)\n",
    "    if smallerlistoutput==-1:\n",
    "        return -1\n",
    "    else:\n",
    "        return smallerlistoutput+1"
   ]
  },
  {
   "cell_type": "code",
   "execution_count": 2,
   "id": "43c7d9b8",
   "metadata": {},
   "outputs": [
    {
     "data": {
      "text/plain": [
       "4"
      ]
     },
     "execution_count": 2,
     "metadata": {},
     "output_type": "execute_result"
    }
   ],
   "source": [
    "a=[1,2,3,4,5,6,7,5]\n",
    "firstindex(a,5)"
   ]
  },
  {
   "cell_type": "code",
   "execution_count": 3,
   "id": "b0a9bab9",
   "metadata": {},
   "outputs": [],
   "source": [
    "def firstindexbetter(a,x,si):\n",
    "    l=len(a)\n",
    "    if si==l:\n",
    "        return -1\n",
    "    if a[si]==x:\n",
    "        return si\n",
    "    return firstindexbetter(a,x,si+1)\n",
    "    "
   ]
  },
  {
   "cell_type": "code",
   "execution_count": 7,
   "id": "af17cb73",
   "metadata": {},
   "outputs": [
    {
     "data": {
      "text/plain": [
       "4"
      ]
     },
     "execution_count": 7,
     "metadata": {},
     "output_type": "execute_result"
    }
   ],
   "source": [
    "a=[1,2,3,4,5,6,7,5]\n",
    "firstindexbetter(a,5,0)"
   ]
  },
  {
   "cell_type": "code",
   "execution_count": 8,
   "id": "8688cb22",
   "metadata": {},
   "outputs": [],
   "source": [
    "def lastindex(a,x):\n",
    "    l=len(a)\n",
    "    if l==0:\n",
    "        return -1\n",
    "    smallerlist=a[1:]\n",
    "    smallerlistoutput=lastindex(smallerlist,x)\n",
    "    if smallerlistoutput!=-1:\n",
    "        return smallerlistoutput+1\n",
    "    else:\n",
    "        if a[0]==x:\n",
    "            return 0\n",
    "        else:\n",
    "            return -1"
   ]
  },
  {
   "cell_type": "code",
   "execution_count": 10,
   "id": "b3412441",
   "metadata": {},
   "outputs": [
    {
     "data": {
      "text/plain": [
       "6"
      ]
     },
     "execution_count": 10,
     "metadata": {},
     "output_type": "execute_result"
    }
   ],
   "source": [
    "a=[1,2,3,4,3,5,3]\n",
    "lastindex(a,3)"
   ]
  },
  {
   "cell_type": "code",
   "execution_count": 11,
   "id": "7773fa68",
   "metadata": {},
   "outputs": [],
   "source": [
    "def lastindexbetter(a,x,si):\n",
    "    l=len(a)\n",
    "    if si==l:\n",
    "        return -1\n",
    "    smallerlistoutput=lastindexbetter(a,x,si+1)\n",
    "    if smallerlistoutput!=-1:\n",
    "        return smallerlistoutput\n",
    "    else:\n",
    "        if a[si]==x:\n",
    "            return si\n",
    "        else:\n",
    "            return -1\n",
    "\n",
    "      "
   ]
  },
  {
   "cell_type": "code",
   "execution_count": 13,
   "id": "e165c05d",
   "metadata": {},
   "outputs": [
    {
     "data": {
      "text/plain": [
       "6"
      ]
     },
     "execution_count": 13,
     "metadata": {},
     "output_type": "execute_result"
    }
   ],
   "source": [
    "a=[1,2,3,4,3,5,3]\n",
    "lastindexbetter(a,3,0)"
   ]
  },
  {
   "cell_type": "code",
   "execution_count": null,
   "id": "994bb71e",
   "metadata": {},
   "outputs": [],
   "source": []
  }
 ],
 "metadata": {
  "kernelspec": {
   "display_name": "Python 3 (ipykernel)",
   "language": "python",
   "name": "python3"
  },
  "language_info": {
   "codemirror_mode": {
    "name": "ipython",
    "version": 3
   },
   "file_extension": ".py",
   "mimetype": "text/x-python",
   "name": "python",
   "nbconvert_exporter": "python",
   "pygments_lexer": "ipython3",
   "version": "3.11.5"
  }
 },
 "nbformat": 4,
 "nbformat_minor": 5
}
