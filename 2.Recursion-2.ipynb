{
 "cells": [
  {
   "cell_type": "code",
   "execution_count": 14,
   "id": "6e2f7e90",
   "metadata": {},
   "outputs": [],
   "source": [
    "def replacechar(s,a,b):\n",
    "    if len(s)==0:\n",
    "        return s\n",
    "    smalloutput=replacechar(s[1:],a,b)\n",
    "    if s[0]==a:\n",
    "        return b + smalloutput\n",
    "    else:\n",
    "        return s[0] + smalloutput"
   ]
  },
  {
   "cell_type": "code",
   "execution_count": 15,
   "id": "3a85e778",
   "metadata": {},
   "outputs": [
    {
     "data": {
      "text/plain": [
       "'daxdxxd'"
      ]
     },
     "execution_count": 15,
     "metadata": {},
     "output_type": "execute_result"
    }
   ],
   "source": [
    "replacechar(\"dacdxcd\",'c','x')"
   ]
  },
  {
   "cell_type": "code",
   "execution_count": 16,
   "id": "4ff529ce",
   "metadata": {},
   "outputs": [],
   "source": [
    "def removex(s,x):\n",
    "    if len(s)==0:\n",
    "        return s\n",
    "    smalloutput=removex(s[1:],x)\n",
    "    if s[0]==x:\n",
    "        return smalloutput\n",
    "    else:\n",
    "        return s[0] + smalloutput"
   ]
  },
  {
   "cell_type": "code",
   "execution_count": 18,
   "id": "201d029f",
   "metadata": {},
   "outputs": [
    {
     "data": {
      "text/plain": [
       "'bc'"
      ]
     },
     "execution_count": 18,
     "metadata": {},
     "output_type": "execute_result"
    }
   ],
   "source": [
    "removex(\"abcaa\",'a')"
   ]
  },
  {
   "cell_type": "code",
   "execution_count": 20,
   "id": "27006144",
   "metadata": {},
   "outputs": [],
   "source": [
    "def replacepi(s):\n",
    "    if len(s)==0 or len(s)==1:\n",
    "        return s\n",
    "    if s[0]=='p' and s[1]=='i':\n",
    "        smalloutput=replacepi(s[2:])\n",
    "        return \"3.14\"+smalloutput\n",
    "    else:\n",
    "        smalloutput=replacepi(s[1:])\n",
    "        return s[0]+smalloutput"
   ]
  },
  {
   "cell_type": "code",
   "execution_count": 24,
   "id": "631f1fd9",
   "metadata": {},
   "outputs": [
    {
     "data": {
      "text/plain": [
       "'3.14p3.14'"
      ]
     },
     "execution_count": 24,
     "metadata": {},
     "output_type": "execute_result"
    }
   ],
   "source": [
    "replacepi(\"pippi\")"
   ]
  },
  {
   "cell_type": "code",
   "execution_count": 63,
   "id": "2be5bfbc",
   "metadata": {},
   "outputs": [],
   "source": [
    "def removeduplicate(s):\n",
    "    if len(s)==0 or len(s)==1:\n",
    "        return s\n",
    "    if s[0]==s[1]:\n",
    "        return removeduplicate(s[1:])\n",
    "    else:\n",
    "        return s[0]+removeduplicate(s[1:])"
   ]
  },
  {
   "cell_type": "code",
   "execution_count": 64,
   "id": "9d77ff53",
   "metadata": {},
   "outputs": [
    {
     "data": {
      "text/plain": [
       "'abcde'"
      ]
     },
     "execution_count": 64,
     "metadata": {},
     "output_type": "execute_result"
    }
   ],
   "source": [
    "removeduplicate(\"aaabbcccde\",)"
   ]
  },
  {
   "cell_type": "code",
   "execution_count": 66,
   "id": "f854c1e3",
   "metadata": {},
   "outputs": [],
   "source": [
    "def binarysearch(a,x,si,ei):\n",
    "    l=len(a)\n",
    "    if si>ei:\n",
    "        return -1\n",
    "    mid=(si+ei)//2\n",
    "    if a[mid]==x:\n",
    "        return mid\n",
    "    elif a[mid]>x:\n",
    "        return binarysearch(a,x,si,mid-1)\n",
    "    else:\n",
    "        return binarysearch(a,x,mid+1,ei)"
   ]
  },
  {
   "cell_type": "code",
   "execution_count": 68,
   "id": "ebb278c9",
   "metadata": {},
   "outputs": [
    {
     "data": {
      "text/plain": [
       "-1"
      ]
     },
     "execution_count": 68,
     "metadata": {},
     "output_type": "execute_result"
    }
   ],
   "source": [
    "a=[1,2,3,4,5,6,7]\n",
    "binarysearch(a,8,0,6)"
   ]
  },
  {
   "cell_type": "code",
   "execution_count": 93,
   "id": "ea394dd6",
   "metadata": {},
   "outputs": [],
   "source": [
    "def merge(a1,a2,a):\n",
    "    i=0\n",
    "    j=0\n",
    "    k=0\n",
    "    while i<len(a1) and j<len(a2):\n",
    "        if (a1[i]<a2[j]):\n",
    "            a[k]=a1[i]\n",
    "            k=k+1\n",
    "            i=i+1\n",
    "        else:\n",
    "            a[k]=a2[j]\n",
    "            k=k+1\n",
    "            j=j+1\n",
    "    while i<len(a1):\n",
    "        a[k]=a1[i]\n",
    "        k=k+1\n",
    "        i=i+1\n",
    "    while j<len(a2):\n",
    "        a[k]=a2[j]\n",
    "        k=k+1\n",
    "        j=j+1"
   ]
  },
  {
   "cell_type": "code",
   "execution_count": 94,
   "id": "5a48bcb0",
   "metadata": {},
   "outputs": [],
   "source": [
    "def mergesort(a):\n",
    "    if len(a)==0 or len(a)==1:\n",
    "        return\n",
    "    mid=len(a)//2\n",
    "    a1=a[0:mid]\n",
    "    a2=a[mid:]\n",
    "    mergesort(a1)\n",
    "    mergesort(a2)\n",
    "    merge(a1,a2,a)"
   ]
  },
  {
   "cell_type": "code",
   "execution_count": 95,
   "id": "5b2a16c9",
   "metadata": {},
   "outputs": [
    {
     "data": {
      "text/plain": [
       "[1, 2, 4, 4, 5, 7, 9]"
      ]
     },
     "execution_count": 95,
     "metadata": {},
     "output_type": "execute_result"
    }
   ],
   "source": [
    "a=[1,7,2,5,4,9,4]\n",
    "mergesort(a)\n",
    "a"
   ]
  },
  {
   "cell_type": "code",
   "execution_count": 97,
   "id": "abc0d333",
   "metadata": {},
   "outputs": [],
   "source": [
    "def partition(a,si,ei):\n",
    "    pivot=a[si]\n",
    "    #find number of elements smaller tahn pivot\n",
    "    c=0\n",
    "    for i in range(si,ei+1):\n",
    "        if a[i]<pivot:\n",
    "            c=c+1\n",
    "    a[si+c],a[si]=a[si],a[si+c]\n",
    "    pivot_index=si+c\n",
    "    i=si\n",
    "    j=ei\n",
    "    while i<j:\n",
    "        if a[i]<pivot:\n",
    "            i=i+1\n",
    "        elif a[j]>pivot:\n",
    "            j=j-1\n",
    "        else:\n",
    "            a[i],a[j]=a[j],a[i]\n",
    "            i=i+1\n",
    "            j=j-1 \n",
    "    return pivot_index"
   ]
  },
  {
   "cell_type": "code",
   "execution_count": 100,
   "id": "3df2a977",
   "metadata": {},
   "outputs": [],
   "source": [
    "def quicksort(a,si,ei):\n",
    "    if si>=ei:\n",
    "        return \n",
    "    pivot_index=partition(a,si,ei)\n",
    "    quicksort(a,si,pivot_index-1)\n",
    "    quicksort(a,pivot_index+1,ei)\n",
    "    "
   ]
  },
  {
   "cell_type": "code",
   "execution_count": 101,
   "id": "76df468c",
   "metadata": {},
   "outputs": [
    {
     "data": {
      "text/plain": [
       "[1, 2, 3, 4, 5, 6, 7, 8, 9, 10]"
      ]
     },
     "execution_count": 101,
     "metadata": {},
     "output_type": "execute_result"
    }
   ],
   "source": [
    "a=[6,10,9,8,7,1,3,5,4,2]\n",
    "quicksort(a,0,len(a)-1)\n",
    "a"
   ]
  },
  {
   "cell_type": "code",
   "execution_count": 105,
   "id": "9e90ddc6",
   "metadata": {},
   "outputs": [],
   "source": [
    "def toh(n,a,b,c):\n",
    "    if n==1:\n",
    "        print(\"move 1st disk from \",a,\"to\",c)\n",
    "        return\n",
    "    toh(n-1,a,c,b)\n",
    "    print(\"move\" ,n, \"th disk from \",a, \"to\",c)\n",
    "    toh(n-1,b,a,c)"
   ]
  },
  {
   "cell_type": "code",
   "execution_count": 109,
   "id": "5b82b8c7",
   "metadata": {},
   "outputs": [
    {
     "name": "stdout",
     "output_type": "stream",
     "text": [
      "move 1st disk from  s to h\n",
      "move 2 th disk from  s to d\n",
      "move 1st disk from  h to d\n"
     ]
    }
   ],
   "source": [
    "toh(2,\"s\",\"h\",\"d\")"
   ]
  }
 ],
 "metadata": {
  "kernelspec": {
   "display_name": "Python 3 (ipykernel)",
   "language": "python",
   "name": "python3"
  },
  "language_info": {
   "codemirror_mode": {
    "name": "ipython",
    "version": 3
   },
   "file_extension": ".py",
   "mimetype": "text/x-python",
   "name": "python",
   "nbconvert_exporter": "python",
   "pygments_lexer": "ipython3",
   "version": "3.11.5"
  }
 },
 "nbformat": 4,
 "nbformat_minor": 5
}
